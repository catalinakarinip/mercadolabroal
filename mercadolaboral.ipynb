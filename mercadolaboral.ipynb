{
  "nbformat": 4,
  "nbformat_minor": 0,
  "metadata": {
    "colab": {
      "provenance": [],
      "toc_visible": true,
      "authorship_tag": "ABX9TyM40psa5MdU4xdkaNqsrzzy",
      "include_colab_link": true
    },
    "kernelspec": {
      "name": "python3",
      "display_name": "Python 3"
    },
    "language_info": {
      "name": "python"
    }
  },
  "cells": [
    {
      "cell_type": "markdown",
      "metadata": {
        "id": "view-in-github",
        "colab_type": "text"
      },
      "source": [
        "<a href=\"https://colab.research.google.com/github/catalinakarinip/mercadolabroal/blob/main/mercadolaboral.ipynb\" target=\"_parent\"><img src=\"https://colab.research.google.com/assets/colab-badge.svg\" alt=\"Open In Colab\"/></a>"
      ]
    },
    {
      "cell_type": "markdown",
      "source": [
        "# Script 1: Limpieza bases INE"
      ],
      "metadata": {
        "id": "Uc46ixsIkE-N"
      }
    },
    {
      "cell_type": "markdown",
      "source": [
        "Para actualizar las bases limpias se debe\n",
        "1. Subir las bbdd originales del INE\n",
        "2. Ver si la base de diccionario \"variables_por_base\" mantiene las columnas, y por tanto las abreviaturas corresponden\n",
        "3. Cambiar nombre del archivo al compatible con la base de diccionario\n",
        "\n",
        "El code se demora 1 min en crear todas las bases limpias!!\n"
      ],
      "metadata": {
        "id": "st4DOtEXyi38"
      }
    },
    {
      "cell_type": "code",
      "source": [
        "# ================= 0. MONTAR DRIVE =====================================\n",
        "from google.colab import drive\n",
        "drive.mount('/content/drive')"
      ],
      "metadata": {
        "colab": {
          "base_uri": "https://localhost:8080/"
        },
        "id": "sqSMPFVqfHpg",
        "outputId": "2f6e0c71-9425-40e9-ba99-dcc04fde2b1b"
      },
      "execution_count": 16,
      "outputs": [
        {
          "output_type": "stream",
          "name": "stdout",
          "text": [
            "Drive already mounted at /content/drive; to attempt to forcibly remount, call drive.mount(\"/content/drive\", force_remount=True).\n"
          ]
        }
      ]
    },
    {
      "cell_type": "code",
      "source": [
        "# ================= 1. LIBRERÍAS Y RUTA ========================================\n",
        "from pathlib import Path\n",
        "import pandas as pd\n",
        "import re\n",
        "\n",
        "ROOT = Path(\"/content/drive/MyDrive/Data/Mercado_Laboral/Biobio\")\n",
        "ORIG_DIR = ROOT / \"Datos_ENE_originales\"\n",
        "CLEAN_DIR = ROOT / \"Datos_ENE_limpios\"\n",
        "CLEAN_DIR.mkdir(parents=True, exist_ok=True)\n",
        "\n",
        "MAP_FILE = ROOT / \"resultados/variables_por_base.xlsx\"\n",
        "MAP_SHEET = 0\n",
        "\n",
        "# ================= 2. DICCIONARIO DE ABREVIATURAS =====================\n",
        "def load_abbreviations() -> dict:\n",
        "    df_map = (\n",
        "        pd.read_excel(MAP_FILE, sheet_name=MAP_SHEET, usecols=\"A:C\")\n",
        "        .rename(columns=str.lower)\n",
        "        .dropna()\n",
        "    )\n",
        "    df_map[\"base\"] = (\n",
        "        df_map[\"base\"].str.strip().str.replace(\".xlsx\", \"\", regex=False).str.lower()\n",
        "    )\n",
        "    df_map[\"var_original\"] = df_map[\"var_original\"].str.strip()\n",
        "    df_map[\"abreviatura\"] = df_map[\"abreviatura\"].str.strip()\n",
        "    return {(r.base, r.var_original): r.abreviatura for r in df_map.itertuples()}\n",
        "\n",
        "# ================= 4. HOJAS A CONSERVAR ================================\n",
        "ID_VARS = [\"Año\", \"Trimestre\"]\n",
        "HOJAS_OBJETIVO = {\n",
        "    \"AS\",\n",
        "    \"AP\",\n",
        "    \"TA\",\n",
        "    \"AN\",\n",
        "    \"AT\",\n",
        "    \"CO\",\n",
        "    \"VA\",\n",
        "    \"RM\",\n",
        "    \"LI\",\n",
        "    \"ML\",\n",
        "    \"NB\",\n",
        "    \"BI\",\n",
        "    \"AR\",\n",
        "    \"LR\",\n",
        "    \"LL\",\n",
        "    \"AI\",\n",
        "    \"MA\",\n",
        "}\n",
        "\n",
        "# ================= 5. CONVERSIÓN NÚMEROS LATINOS =======================\n",
        "\n",
        "LATIN_NUMBER_RE = re.compile(r\"^\\d{1,3}(\\.\\d{3})*(,\\d+)?$\")\n",
        "\n",
        "def texto_a_numero(valor: str):\n",
        "    if pd.isna(valor):\n",
        "        return None\n",
        "    texto = str(valor)\n",
        "    if LATIN_NUMBER_RE.match(texto):\n",
        "        texto = texto.replace(\".\", \"\").replace(\",\", \".\")\n",
        "    else:\n",
        "        texto = texto.replace(\",\", \".\")\n",
        "    try:\n",
        "        return float(texto)\n",
        "    except ValueError:\n",
        "        return None\n",
        "\n",
        "# ================= 6. LIMPIADOR DE HOJAS ===============================\n",
        "def limpiar_hoja(df: pd.DataFrame, base_alias: str, abbr: dict) -> pd.DataFrame:\n",
        "    df = df.copy()\n",
        "    df.columns = df.columns.str.strip()\n",
        "    columnas_a_borrar = []\n",
        "    renombres = {}\n",
        "    columnas = list(df.columns)\n",
        "\n",
        "    for i, col in enumerate(columnas):\n",
        "        if col in ID_VARS or \"Unnamed\" not in col:\n",
        "            continue\n",
        "        anterior = columnas[i - 1].strip() if i > 0 else \"\"\n",
        "        if anterior in ID_VARS or not anterior:\n",
        "            columnas_a_borrar.append(col)\n",
        "            continue\n",
        "        alias = abbr.get((base_alias, anterior))\n",
        "        if alias:\n",
        "            renombres[col] = f\"{alias}_{base_alias}\"\n",
        "        else:\n",
        "            columnas_a_borrar.append(col)\n",
        "\n",
        "    df = df.drop(columns=columnas_a_borrar, errors=\"ignore\").rename(columns=renombres)\n",
        "    df = df[df[ID_VARS[0]].notna() | df[ID_VARS[1]].notna()].reset_index(drop=True)\n",
        "\n",
        "    # Normalize quarter names so they match TRIM_OK in unify_panel.py\n",
        "    quarter_map = {\n",
        "        \"1\": \"Ene - Mar\",\n",
        "        \"2\": \"Abr - Jun\",\n",
        "        \"3\": \"Jul - Sep\",\n",
        "        \"4\": \"Oct - Dic\",\n",
        "        \"ene-mar\": \"Ene - Mar\",\n",
        "        \"abr-jun\": \"Abr - Jun\",\n",
        "        \"jul-sep\": \"Jul - Sep\",\n",
        "        \"oct-dic\": \"Oct - Dic\",\n",
        "        \"ene - mar\": \"Ene - Mar\",\n",
        "        \"abr - jun\": \"Abr - Jun\",\n",
        "        \"jul - sep\": \"Jul - Sep\",\n",
        "        \"oct - dic\": \"Oct - Dic\",\n",
        "    }\n",
        "    df[\"Trimestre\"] = (\n",
        "        df[\"Trimestre\"].astype(str).str.strip().str.lower().replace(quarter_map)\n",
        "    )\n",
        "    df[\"Año\"] = pd.to_numeric(df[\"Año\"], errors=\"coerce\")\n",
        "\n",
        "    for col in renombres.values():\n",
        "        df[col] = df[col].apply(texto_a_numero)\n",
        "\n",
        "    return df[[*ID_VARS, *renombres.values()]]\n",
        "\n",
        "# ================= 7. PROCESAR ARCHIVOS =================================\n",
        "def procesar_archivos():\n",
        "    abbr = load_abbreviations()\n",
        "    for src in ORIG_DIR.glob(\"*.xlsx\"):\n",
        "        base_alias = src.stem.split(\"_\")[0].lower()\n",
        "        dest = CLEAN_DIR / f\"{base_alias}_limpia.xlsx\"\n",
        "        if dest.exists():\n",
        "            print(f\"↻  Reemplazando {dest.name}\")\n",
        "        else:\n",
        "            print(f\"→ Procesando {src.name} (base={base_alias})\")\n",
        "        xls = pd.ExcelFile(src)\n",
        "        with pd.ExcelWriter(dest, engine=\"openpyxl\") as xlw:\n",
        "            hojas_guardadas = 0\n",
        "            for hoja in xls.sheet_names:\n",
        "                if hoja not in HOJAS_OBJETIVO:\n",
        "                    continue\n",
        "                try:\n",
        "                    raw = xls.parse(hoja, header=5, dtype=str)\n",
        "                    limpio = limpiar_hoja(raw, base_alias, abbr)\n",
        "                    if not limpio.empty:\n",
        "                        limpio.to_excel(xlw, sheet_name=hoja, index=False)\n",
        "                        hojas_guardadas += 1\n",
        "                except Exception as e:\n",
        "                    print(f\"⚠️ Error en hoja '{hoja}': {e}\")\n",
        "            if hojas_guardadas == 0:\n",
        "                print(f\"⚠️ Ninguna hoja válida guardada en {src.name}\")\n",
        "    print(\"\\n✅ Limpieza completada. Archivos en:\", CLEAN_DIR)\n",
        "\n",
        "if __name__ == \"__main__\":\n",
        "    procesar_archivos()\n",
        "\n"
      ],
      "metadata": {
        "colab": {
          "base_uri": "https://localhost:8080/"
        },
        "id": "ysdcgLQAt61r",
        "outputId": "52653d6f-1e03-4e09-8c4e-b995e3e3da70"
      },
      "execution_count": 17,
      "outputs": [
        {
          "output_type": "stream",
          "name": "stdout",
          "text": [
            "↻  Reemplazando rama_limpia.xlsx\n",
            "↻  Reemplazando informalidadtasas_limpia.xlsx\n",
            "↻  Reemplazando informalidadrama_limpia.xlsx\n",
            "↻  Reemplazando informalidadgrupo_limpia.xlsx\n",
            "↻  Reemplazando informalidadcategoria_limpia.xlsx\n",
            "↻  Reemplazando indicadoresprincipales_limpia.xlsx\n",
            "↻  Reemplazando grupo_limpia.xlsx\n",
            "↻  Reemplazando complementarios_limpia.xlsx\n",
            "↻  Reemplazando categoria_limpia.xlsx\n",
            "\n",
            "✅ Limpieza completada. Archivos en: /content/drive/MyDrive/Data/Mercado_Laboral/Biobio/Datos_ENE_limpios\n"
          ]
        }
      ]
    },
    {
      "cell_type": "markdown",
      "source": [
        "# Script 2.1: Panel de datos"
      ],
      "metadata": {
        "id": "Z9yXzopv8_2K"
      }
    },
    {
      "cell_type": "code",
      "source": [
        "# ================= 0. MONTAR DRIVE =====================================\n",
        "from google.colab import drive\n",
        "drive.mount('/content/drive')"
      ],
      "metadata": {
        "colab": {
          "base_uri": "https://localhost:8080/"
        },
        "id": "9kIEg0A_fLqD",
        "outputId": "38598587-8e9c-4ba1-9556-f91097ddf90d"
      },
      "execution_count": 40,
      "outputs": [
        {
          "output_type": "stream",
          "name": "stdout",
          "text": [
            "Drive already mounted at /content/drive; to attempt to forcibly remount, call drive.mount(\"/content/drive\", force_remount=True).\n"
          ]
        }
      ]
    },
    {
      "cell_type": "code",
      "source": [
        "# ================= 1. LIBRERÍAS Y PATH ========================================\n",
        "from pathlib import Path\n",
        "import pandas as pd\n",
        "ROOT = Path(\"/content/drive/MyDrive/Data/Mercado_Laboral/Biobio\")\n",
        "CLEAN_DIR = ROOT / \"Datos_ENE_limpios\"\n",
        "PANEL_FILE = ROOT / \"resultados\" / \"panel_ENE_unificado.xlsx\"\n",
        "\n",
        "TRIM_OK = {\"Ene - Mar\", \"Abr - Jun\", \"Jul - Sep\", \"Oct - Dic\"}\n",
        "MAPA = {\n",
        "    \"AP\": \"Arica y Parinacota\",\n",
        "    \"TA\": \"Tarapacá\",\n",
        "    \"AN\": \"Antofagasta\",\n",
        "    \"AT\": \"Atacama\",\n",
        "    \"CO\": \"Coquimbo\",\n",
        "    \"VA\": \"Valparaíso\",\n",
        "    \"RM\": \"Región Metropolitana\",\n",
        "    \"LI\": \"O’Higgins\",\n",
        "    \"ML\": \"Maule\",\n",
        "    \"NB\": \"Ñuble\",\n",
        "    \"BI\": \"Biobío\",\n",
        "    \"AR\": \"Araucanía\",\n",
        "    \"LR\": \"Los Ríos\",\n",
        "    \"LL\": \"Los Lagos\",\n",
        "    \"AI\": \"Aysén\",\n",
        "    \"MA\": \"Magallanes\",\n",
        "    \"AS\": \"Nacional\",\n",
        "}\n",
        "REGIONES = set(MAPA.keys())\n",
        "ID_VARS = [\"Año\", \"Trimestre\", \"region_code\", \"region_name\"]\n",
        "TRIM_MAP = {\"Ene - Mar\": 1, \"Abr - Jun\": 2, \"Jul - Sep\": 3, \"Oct - Dic\": 4}\n",
        "\n",
        "# ================= 2.MAPEO INICIAL ===========================\n",
        "\n",
        "def cargar_base(path: Path) -> pd.DataFrame:\n",
        "    xls = pd.ExcelFile(path)\n",
        "    registros = []\n",
        "    for hoja in xls.sheet_names:\n",
        "        if hoja not in REGIONES:\n",
        "            continue\n",
        "        df = pd.read_excel(xls, sheet_name=hoja)\n",
        "        df = df[df[\"Trimestre\"].isin(TRIM_OK)].copy()\n",
        "        df[\"region_code\"] = hoja\n",
        "        df[\"region_name\"] = MAPA[hoja]\n",
        "        registros.append(df)\n",
        "    if registros:\n",
        "        return pd.concat(registros, ignore_index=True)\n",
        "    return pd.DataFrame(columns=ID_VARS)\n",
        "\n",
        "\n",
        "# ================= 3. CONSTRUCCIÓN DEL PANEL ===========================\n",
        "def construir_panel():\n",
        "    panel = None\n",
        "    for archivo in CLEAN_DIR.glob(\"*_limpia.xlsx\"):\n",
        "        df_base = cargar_base(archivo)\n",
        "        if df_base.empty:\n",
        "            continue\n",
        "        if panel is None:\n",
        "            panel = df_base\n",
        "        else:\n",
        "            panel = pd.merge(panel, df_base, on=ID_VARS, how=\"outer\")\n",
        "    if panel is None:\n",
        "        print(\"No se encontraron archivos limpios\")\n",
        "        return\n",
        "    panel[\"Trimestre_num\"] = panel[\"Trimestre\"].map(TRIM_MAP)\n",
        "    panel = (\n",
        "        panel.sort_values(\n",
        "            [\"Año\", \"Trimestre_num\", \"region_code\", \"region_name\"]\n",
        "        )\n",
        "        .drop(columns=\"Trimestre_num\")\n",
        "        .reset_index(drop=True)\n",
        "    )\n",
        "    panel[\"Periodo\"] = pd.PeriodIndex(\n",
        "        year=panel[\"Año\"],\n",
        "        quarter=panel[\"Trimestre\"].map(TRIM_MAP),\n",
        "        freq=\"Q\",\n",
        "    )\n",
        "    panel[\"Fecha\"] = panel[\"Periodo\"].dt.start_time\n",
        "    #panel[\"Periodo_str\"] = panel[\"Periodo\"].astype(str)\n",
        "\n",
        "    PANEL_FILE.parent.mkdir(parents=True, exist_ok=True)\n",
        "    if PANEL_FILE.exists():\n",
        "        print(f\"↻  Reemplazando {PANEL_FILE.name}\")\n",
        "    panel.to_excel(PANEL_FILE, index=False, sheet_name=\"panel_data\")\n",
        "    print(\"✅ Panel construido y guardado en:\", PANEL_FILE)\n",
        "\n",
        "if __name__ == \"__main__\":\n",
        "    construir_panel()"
      ],
      "metadata": {
        "colab": {
          "base_uri": "https://localhost:8080/"
        },
        "id": "tS6MeK7R-38i",
        "outputId": "0deaf9d3-e95d-49e2-90ca-f2b03a35bfd8"
      },
      "execution_count": 41,
      "outputs": [
        {
          "output_type": "stream",
          "name": "stderr",
          "text": [
            "<ipython-input-41-1241934044>:72: FutureWarning: Constructing PeriodIndex from fields is deprecated. Use PeriodIndex.from_fields instead.\n",
            "  panel[\"Periodo\"] = pd.PeriodIndex(\n"
          ]
        },
        {
          "output_type": "stream",
          "name": "stdout",
          "text": [
            "↻  Reemplazando panel_ENE_unificado.xlsx\n",
            "✅ Panel construido y guardado en: /content/drive/MyDrive/Data/Mercado_Laboral/Biobio/resultados/panel_ENE_unificado.xlsx\n"
          ]
        }
      ]
    },
    {
      "cell_type": "markdown",
      "source": [
        "# Script 2.2: Panel BioBio vs Nacional"
      ],
      "metadata": {
        "id": "fWSnFJRs5O3Y"
      }
    },
    {
      "cell_type": "code",
      "source": [
        "# ================= Panel Biobío vs Nacional =====================\n",
        "import pandas as pd\n",
        "from pathlib import Path\n",
        "\n",
        "# === Paths y variables ===\n",
        "ROOT = Path('/content/drive/MyDrive/Data/Mercado_Laboral/Biobio')\n",
        "PANEL_FILE = ROOT / 'resultados' / 'panel_ENE_unificado.xlsx'\n",
        "\n",
        "vars_sel = [\n",
        "    'T_TDO_indicadoresprincipales',\n",
        "    'T_TO_indicadoresprincipales',\n",
        "    'T_TP_indicadoresprincipales',\n",
        "    'T_TOI_A_informalidadtasas',\n",
        "    'T_TOI_H_informalidadtasas',\n",
        "    'T_TOI_M_informalidadtasas',\n",
        "]\n",
        "\n",
        "TRIM_MAP = {\"Ene - Mar\": 1, \"Abr - Jun\": 2, \"Jul - Sep\": 3, \"Oct - Dic\": 4}\n",
        "\n",
        "# === Cargar y filtrar ===\n",
        "df = pd.read_excel(PANEL_FILE, sheet_name='panel_data')\n",
        "df = df[df['region_name'].isin(['Biobío', 'Nacional'])].copy()\n",
        "\n",
        "# Añadir orden temporal\n",
        "df[\"Trimestre_num\"] = df[\"Trimestre\"].map(TRIM_MAP)\n",
        "df = df.sort_values([\"Año\", \"Trimestre_num\", \"region_name\"])\n",
        "\n",
        "# Seleccionar columnas en orden\n",
        "cols_final = ['Año', 'Trimestre', 'region_name'] + vars_sel\n",
        "df_panel = df[cols_final]\n",
        "\n",
        "# Guardar como nueva hoja\n",
        "with pd.ExcelWriter(PANEL_FILE, engine='openpyxl', mode='a', if_sheet_exists='replace') as writer:\n",
        "    df_panel.to_excel(writer, sheet_name='biobio_vs_nacional', index=False)\n",
        "\n",
        "print(f\"✅ Hoja «biobio_vs_nacional» creada con {len(df_panel)} filas.\")\n"
      ],
      "metadata": {
        "colab": {
          "base_uri": "https://localhost:8080/"
        },
        "id": "7MC-oJV34sLl",
        "outputId": "edd8688c-d309-49ef-ad39-5acb2fc1f33d"
      },
      "execution_count": 45,
      "outputs": [
        {
          "output_type": "stream",
          "name": "stdout",
          "text": [
            "✅ Hoja «biobio_vs_nacional» creada con 122 filas.\n"
          ]
        }
      ]
    },
    {
      "cell_type": "code",
      "source": [
        "# ================= Panel Biobío vs Nacional =====================\n",
        "import pandas as pd\n",
        "from pathlib import Path\n",
        "\n",
        "# === Paths y variables ===\n",
        "ROOT = Path('/content/drive/MyDrive/Data/Mercado_Laboral/Biobio')\n",
        "PANEL_FILE = ROOT / 'resultados' / 'panel_ENE_unificado.xlsx'\n",
        "\n",
        "vars_sel = [\n",
        "    'T_TDO_indicadoresprincipales',\n",
        "    'T_TO_indicadoresprincipales',\n",
        "    'T_TP_indicadoresprincipales',\n",
        "    'T_TOI_A_informalidadtasas',\n",
        "    'T_TOI_H_informalidadtasas',\n",
        "    'T_TOI_M_informalidadtasas',\n",
        "]\n",
        "\n",
        "TRIM_MAP = {\"Ene - Mar\": 1, \"Abr - Jun\": 2, \"Jul - Sep\": 3, \"Oct - Dic\": 4}\n",
        "\n",
        "# === Cargar y filtrar ===\n",
        "df = pd.read_excel(PANEL_FILE, sheet_name='panel_data')\n",
        "df = df[df['region_name'].isin(['Biobío', 'Nacional'])].copy()\n",
        "\n",
        "# Añadir periodo y fecha\n",
        "df[\"Trimestre_num\"] = df[\"Trimestre\"].map(TRIM_MAP)\n",
        "df[\"Periodo\"] = pd.PeriodIndex.from_fields(\n",
        "    year=df[\"Año\"],\n",
        "    quarter=df[\"Trimestre_num\"],\n",
        "    freq=\"Q\"\n",
        ")\n",
        "df[\"Fecha\"] = df[\"Periodo\"].dt.start_time\n",
        "\n",
        "# Ordenar y seleccionar columnas finales\n",
        "df = df.sort_values([\"Periodo\", \"region_name\"])\n",
        "cols_final = ['Periodo', 'Fecha', 'Año', 'Trimestre', 'region_name'] + vars_sel\n",
        "df_panel = df[cols_final]\n",
        "\n",
        "# Guardar como nueva hoja\n",
        "with pd.ExcelWriter(PANEL_FILE, engine='openpyxl', mode='a', if_sheet_exists='replace') as writer:\n",
        "    df_panel.to_excel(writer, sheet_name='biobio_vs_nacional', index=False)\n",
        "\n",
        "print(f\"✅ Hoja «biobio_vs_nacional» creada con {len(df_panel)} filas.\")\n"
      ],
      "metadata": {
        "colab": {
          "base_uri": "https://localhost:8080/"
        },
        "id": "gjxBsDkDJwfd",
        "outputId": "68cfa481-0460-46ee-841c-f06b35933232"
      },
      "execution_count": 47,
      "outputs": [
        {
          "output_type": "stream",
          "name": "stdout",
          "text": [
            "✅ Hoja «biobio_vs_nacional» creada con 122 filas.\n"
          ]
        }
      ]
    },
    {
      "cell_type": "markdown",
      "source": [
        "# Script 3: BBDD anual 2024"
      ],
      "metadata": {
        "id": "pdGhYYSuHky6"
      }
    },
    {
      "cell_type": "code",
      "source": [
        "from google.colab import drive\n",
        "drive.mount('/content/drive')\n"
      ],
      "metadata": {
        "colab": {
          "base_uri": "https://localhost:8080/"
        },
        "id": "GWbT5b7wfQIg",
        "outputId": "f0e4e009-0af1-4f31-a8bb-0a6402f6512c"
      },
      "execution_count": 21,
      "outputs": [
        {
          "output_type": "stream",
          "name": "stdout",
          "text": [
            "Drive already mounted at /content/drive; to attempt to forcibly remount, call drive.mount(\"/content/drive\", force_remount=True).\n"
          ]
        }
      ]
    },
    {
      "cell_type": "code",
      "source": [
        "import pandas as pd\n",
        "\n",
        "# 1️⃣  Parámetros\n",
        "archivo_excel = \"/content/drive/MyDrive/Data/Mercado_Laboral/Biobio/resultados/panel_ENE_unificado.xlsx\"\n",
        "hoja_origen   = \"panel_data\"\n",
        "anio          = 2024\n",
        "hoja_filtrada = f\"data_{anio}\"\n",
        "hoja_prom     = f\"promedios_{anio}\"\n",
        "\n",
        "TRIM_MAP = {\"Ene - Mar\": 1, \"Abr - Jun\": 2, \"Jul - Sep\": 3, \"Oct - Dic\": 4}\n",
        "\n",
        "# 2️⃣  Leer la hoja principal y filtrar solo el año objetivo\n",
        "df_anio = (\n",
        "    pd.read_excel(archivo_excel, sheet_name=\"panel_data\")\n",
        "      .query(\"Año == @anio\")\n",
        ")\n",
        "\n",
        "df_anio = pd.read_excel(archivo_excel, sheet_name=hoja_origen).query(\"Año == @anio\").copy()\n",
        "\n",
        "if \"Periodo\" not in df_anio.columns:\n",
        "    df_anio[\"Trimestre_num\"] = df_anio[\"Trimestre\"].map(TRIM_MAP)\n",
        "    df_anio[\"Periodo\"] = pd.PeriodIndex.from_fields(df_anio[\"Año\"], df_anio[\"Trimestre_num\"], freq=\"Q\")\n",
        "    df_anio[\"Fecha\"] = df_anio[\"Periodo\"].dt.start_time\n",
        "    df_anio.drop(columns=\"Trimestre_num\", inplace=True)\n",
        "\n",
        "\n",
        "# 3️⃣  Calcular promedios regionales\n",
        "indicadores = [\n",
        "    \"T_TDO_indicadoresprincipales\",\n",
        "    \"T_TO_indicadoresprincipales\",\n",
        "    \"T_TP_indicadoresprincipales\",\n",
        "    \"T_TOI_A_informalidadtasas\",\n",
        "    \"T_TOI_H_informalidadtasas\",\n",
        "    \"T_TOI_M_informalidadtasas\",\n",
        "]\n",
        "\n",
        "promedios = (\n",
        "    df_anio.groupby(\"region_name\")[indicadores]\n",
        "           .mean()\n",
        "           .reset_index()\n",
        "           .round(3)\n",
        ")\n",
        "\n",
        "# 4️⃣  Escribir ambas hojas dentro del mismo archivo\n",
        "with pd.ExcelWriter(\n",
        "        archivo_excel,\n",
        "        engine=\"openpyxl\",\n",
        "        mode=\"a\",\n",
        "        if_sheet_exists=\"replace\"\n",
        "    ) as writer:\n",
        "    df_anio.to_excel(writer, sheet_name=hoja_filtrada, index=False)\n",
        "    promedios.to_excel(writer, sheet_name=hoja_prom, index=False)\n",
        "\n",
        "print(f\"✅ Hoja «{hoja_filtrada}» ({len(df_anio)} filas) y «{hoja_prom}» ({len(promedios)} regiones) creadas/actualizadas.\")"
      ],
      "metadata": {
        "colab": {
          "base_uri": "https://localhost:8080/"
        },
        "id": "3792zrK2fUWt",
        "outputId": "850d7a4f-0ea0-475e-e512-944a487ff032"
      },
      "execution_count": 49,
      "outputs": [
        {
          "output_type": "stream",
          "name": "stdout",
          "text": [
            "✅ Hoja «data_2024» (68 filas) y «promedios_2024» (17 regiones) creadas/actualizadas.\n"
          ]
        }
      ]
    },
    {
      "cell_type": "markdown",
      "source": [
        "# Script 4: BBDD anual 2025"
      ],
      "metadata": {
        "id": "L3pPxnbygVHX"
      }
    },
    {
      "cell_type": "code",
      "source": [
        "from google.colab import drive\n",
        "drive.mount('/content/drive')"
      ],
      "metadata": {
        "colab": {
          "base_uri": "https://localhost:8080/"
        },
        "id": "-BEspkKKgd19",
        "outputId": "87cafe4c-3cbe-4ff3-f504-e3dbaf79b193"
      },
      "execution_count": 10,
      "outputs": [
        {
          "output_type": "stream",
          "name": "stdout",
          "text": [
            "Drive already mounted at /content/drive; to attempt to forcibly remount, call drive.mount(\"/content/drive\", force_remount=True).\n"
          ]
        }
      ]
    },
    {
      "cell_type": "code",
      "source": [
        "import pandas as pd\n",
        "\n",
        "# 1️⃣  Parámetros\n",
        "archivo_excel = \"/content/drive/MyDrive/Data/Mercado_Laboral/Biobio/resultados/panel_ENE_unificado.xlsx\"\n",
        "hoja_origen   = \"panel_data\"\n",
        "anio          = 2025\n",
        "hoja_filtrada = f\"data_{anio}\"\n",
        "hoja_prom     = f\"promedios_{anio}\"\n",
        "\n",
        "TRIM_MAP = {\"Ene - Mar\": 1, \"Abr - Jun\": 2, \"Jul - Sep\": 3, \"Oct - Dic\": 4}\n",
        "\n",
        "# 2️⃣  Leer la hoja principal y filtrar solo el año objetivo\n",
        "df_anio = (\n",
        "    pd.read_excel(archivo_excel, sheet_name=\"panel_data\")\n",
        "      .query(\"Año == @anio\")\n",
        ")\n",
        "df_anio = pd.read_excel(archivo_excel, sheet_name=hoja_origen).query(\"Año == @anio\").copy()\n",
        "\n",
        "if \"Periodo\" not in df_anio.columns:\n",
        "    df_anio[\"Trimestre_num\"] = df_anio[\"Trimestre\"].map(TRIM_MAP)\n",
        "    df_anio[\"Periodo\"] = pd.PeriodIndex.from_fields(df_anio[\"Año\"], df_anio[\"Trimestre_num\"], freq=\"Q\")\n",
        "    df_anio[\"Fecha\"] = df_anio[\"Periodo\"].dt.start_time\n",
        "    df_anio.drop(columns=\"Trimestre_num\", inplace=True)\n",
        "\n",
        "# 3️⃣  Calcular promedios regionales\n",
        "indicadores = [\n",
        "    \"T_TDO_indicadoresprincipales\",\n",
        "    \"T_TO_indicadoresprincipales\",\n",
        "    \"T_TP_indicadoresprincipales\",\n",
        "    \"T_TOI_A_informalidadtasas\",\n",
        "    \"T_TOI_H_informalidadtasas\",\n",
        "    \"T_TOI_M_informalidadtasas\",\n",
        "]\n",
        "\n",
        "promedios = (\n",
        "    df_anio.groupby(\"region_name\")[indicadores]\n",
        "           .mean()\n",
        "           .reset_index()\n",
        "           .round(3)\n",
        ")\n",
        "\n",
        "# 4️⃣  Escribir ambas hojas dentro del mismo archivo\n",
        "with pd.ExcelWriter(\n",
        "        archivo_excel,\n",
        "        engine=\"openpyxl\",\n",
        "        mode=\"a\",\n",
        "        if_sheet_exists=\"replace\"\n",
        "    ) as writer:\n",
        "    df_anio.to_excel(writer, sheet_name=hoja_filtrada, index=False)\n",
        "    promedios.to_excel(writer, sheet_name=hoja_prom, index=False)\n",
        "\n",
        "print(f\"✅ Hoja «{hoja_filtrada}» ({len(df_anio)} filas) y «{hoja_prom}» ({len(promedios)} regiones) creadas/actualizadas.\")"
      ],
      "metadata": {
        "colab": {
          "base_uri": "https://localhost:8080/"
        },
        "outputId": "acf73d14-f5ad-49a6-f3a2-3f2930a5609a",
        "id": "Ph257QYvxwCU"
      },
      "execution_count": 51,
      "outputs": [
        {
          "output_type": "stream",
          "name": "stdout",
          "text": [
            "✅ Hoja «data_2025» (17 filas) y «promedios_2025» (17 regiones) creadas/actualizadas.\n"
          ]
        }
      ]
    },
    {
      "cell_type": "markdown",
      "source": [
        "# Funciones"
      ],
      "metadata": {
        "id": "bNgHGKTx6lET"
      }
    },
    {
      "cell_type": "code",
      "source": [
        "# ========== CALCULAR VARIACIONES INTERANUALES ==========\n",
        "\n",
        "from pathlib import Path\n",
        "import pandas as pd\n",
        "\n",
        "TRIM_MAP = {\n",
        "    \"Ene - Mar\": 1,\n",
        "    \"Abr - Jun\": 2,\n",
        "    \"Jul - Sep\": 3,\n",
        "    \"Oct - Dic\": 4,\n",
        "}\n",
        "\n",
        "# === Función para cargar y crear columna Periodo si no existe ===\n",
        "def load_panel_variaciones(path: Path, sheet: str) -> pd.DataFrame:\n",
        "    df = pd.read_excel(path, sheet_name=sheet)\n",
        "    if \"Periodo\" not in df.columns:\n",
        "        df[\"Trimestre_num\"] = df[\"Trimestre\"].map(TRIM_MAP)\n",
        "        df[\"Periodo\"] = pd.PeriodIndex(\n",
        "            year=df[\"Año\"],\n",
        "            quarter=df[\"Trimestre_num\"],\n",
        "            freq=\"Q\"\n",
        "        )\n",
        "    return df\n",
        "\n",
        "# === Calcular variaciones ===\n",
        "def add_variations(df: pd.DataFrame, variables: list[str]) -> pd.DataFrame:\n",
        "    df = df.sort_values([\"region_name\", \"Periodo\"]).copy()\n",
        "    for var in variables:\n",
        "        # Variación interanual: diferencia con el mismo trimestre del año anterior\n",
        "        df[f\"{var}_da\"] = df.groupby(\"region_name\")[var].diff(periods=4)\n",
        "    return df\n",
        "\n",
        "\n",
        "    return df\n",
        "\n",
        "# === Ruta y columnas a calcular ===\n",
        "PANEL_FILE = Path('/content/drive/MyDrive/Data/Mercado_Laboral/Biobio/resultados/panel_ENE_unificado.xlsx')\n",
        "SHEET_IN = \"biobio_vs_nacional\"\n",
        "SHEET_OUT = \"biobio_vs_nacional_variaciones\"\n",
        "\n",
        "# Cargar panel\n",
        "df = load_panel_variaciones(PANEL_FILE, SHEET_IN)\n",
        "\n",
        "# Seleccionar solo las columnas numéricas de interés (excluyendo Año, Fecha, etc.)\n",
        "cols_num = df.select_dtypes(\"number\").columns.difference([\"Año\", \"Trimestre_num\"])\n",
        "df_var = add_variations(df, cols_num)\n",
        "\n",
        "# Guardar como nueva hoja\n",
        "with pd.ExcelWriter(PANEL_FILE, engine=\"openpyxl\", mode=\"a\", if_sheet_exists=\"replace\") as writer:\n",
        "    df_var.to_excel(writer, sheet_name=SHEET_OUT, index=False)\n",
        "\n",
        "print(f\"✅ Hoja «{SHEET_OUT}» creada con variaciones.\")\n"
      ],
      "metadata": {
        "colab": {
          "base_uri": "https://localhost:8080/"
        },
        "id": "7fVJNbCQGEof",
        "outputId": "51b2b19f-7d0a-4f02-fc2d-5e6f242d473f"
      },
      "execution_count": 55,
      "outputs": [
        {
          "output_type": "stream",
          "name": "stdout",
          "text": [
            "✅ Hoja «biobio_vs_nacional_variaciones» creada con variaciones.\n"
          ]
        }
      ]
    },
    {
      "cell_type": "markdown",
      "source": [
        "# Gráficos"
      ],
      "metadata": {
        "id": "MvWPD1VsGx8s"
      }
    },
    {
      "cell_type": "code",
      "source": [
        "# ─── 1. Cargar DM Sans desde Google Drive ─────────────────────────────────────\n",
        "import os\n",
        "from pathlib import Path\n",
        "import matplotlib.pyplot as plt\n",
        "import matplotlib.font_manager as fm\n",
        "import pandas as pd\n",
        "import numpy as np\n",
        "\n",
        "# Rutas donde buscar las fuentes DM Sans en tu Drive\n",
        "FONT_PATHS = [\n",
        "    \"/content/drive/MyDrive/Data/fonts/\",  # Carpeta fonts en Data\n",
        "]\n",
        "\n",
        "# Nombres de archivos de fuente a buscar\n",
        "FONT_FILES = [\n",
        "    \"DMSans-Regular.ttf\",\n",
        "    \"DMSans-Bold.ttf\",\n",
        "    \"DMSans-Italic.ttf\",\n",
        "]\n",
        "\n",
        "print(\"🔍 Buscando fuentes DM Sans en Google Drive...\")\n",
        "found_fonts = []\n",
        "\n",
        "# Buscar fuentes en las rutas especificadas\n",
        "for base_path in FONT_PATHS:\n",
        "    font_dir = Path(base_path)\n",
        "    if font_dir.exists():\n",
        "        print(f\"   📁 Revisando: {font_dir}\")\n",
        "        for font_file in FONT_FILES:\n",
        "            font_path = font_dir / font_file\n",
        "            if font_path.exists():\n",
        "                found_fonts.append(font_path)\n",
        "                print(f\"   ✅ Encontrada: {font_file}\")\n",
        "    else:\n",
        "        print(f\"   ⚠️ No existe: {font_dir}\")\n",
        "\n",
        "# ─── 2. Registrar fuentes encontradas ──────────────────────────────────────────\n",
        "registered_fonts = []\n",
        "dm_font_name = None\n",
        "\n",
        "for font_path in found_fonts:\n",
        "    try:\n",
        "        # Registrar la fuente\n",
        "        fm.fontManager.addfont(str(font_path))\n",
        "        registered_fonts.append(font_path)\n",
        "\n",
        "        # Obtener el nombre real de la fuente\n",
        "        font_props = fm.FontProperties(fname=str(font_path))\n",
        "        font_name = font_props.get_name()\n",
        "\n",
        "        if not dm_font_name:  # Usar la primera fuente como principal\n",
        "            dm_font_name = font_name\n",
        "\n",
        "        print(f\"✅ Registrada: {font_path.name} → '{font_name}'\")\n",
        "\n",
        "    except Exception as e:\n",
        "        print(f\"❌ Error registrando {font_path.name}: {e}\")\n",
        "\n",
        "# ─── 3. Configurar matplotlib para usar DM Sans ───────────────────────────────\n",
        "if dm_font_name:\n",
        "    print(f\"\\n🎯 Configurando '{dm_font_name}' como fuente principal\")\n",
        "\n",
        "    # Método 1: Configurar rcParams\n",
        "    plt.rcParams.update({\n",
        "        'font.family': 'sans-serif',\n",
        "        'font.sans-serif': [dm_font_name, 'DejaVu Sans', 'Arial', 'Liberation Sans']\n",
        "    })\n",
        "\n",
        "    # Método 2: Crear FontProperties para uso directo\n",
        "    dm_font_props = fm.FontProperties(family=dm_font_name)\n",
        "    dm_font_bold = fm.FontProperties(family=dm_font_name, weight='bold')\n",
        "\n",
        "    print(\"✅ DM Sans configurado exitosamente\")\n",
        "\n",
        "\n",
        "# ─── 4. Configuración de datos y paleta ───────────────────────────────────────\n",
        "PANEL_PATH = Path(\"/content/drive/MyDrive/Data/Mercado_Laboral/Biobio/resultados/panel_ENE_unificado.xlsx\")\n",
        "OUT_FILE   = Path(\"/content/drive/MyDrive/Data/Mercado_Laboral/Biobio/resultados/variacion_tdo.png\")\n",
        "\n",
        "PALETTE = [\n",
        "    \"#4c5256\", \"#2e3351\", \"#161233\", \"#3e3cca\",\n",
        "    \"#c0c8eb\", \"#798dbf\", \"#ac78ff\", \"#48aee8\",\n",
        "]\n",
        "\n",
        "# ─── 5. Cargar y procesar datos ────────────────────────────────────────────────\n",
        "try:\n",
        "    df = pd.read_excel(PANEL_PATH, sheet_name=\"biobio_vs_nacional\")\n",
        "    df[\"Fecha\"] = pd.to_datetime(df[\"Fecha\"])\n",
        "    df.sort_values(\"Fecha\", inplace=True)\n",
        "\n",
        "    def interanual(s):\n",
        "        return s.pct_change(4) * 100\n",
        "\n",
        "    nac = df[df[\"region_name\"]==\"Nacional\"].copy()\n",
        "    bio = df[df[\"region_name\"]==\"Biobío\"].copy()\n",
        "    nac[\"var\"] = interanual(nac[\"T_TDO_indicadoresprincipales\"])\n",
        "    bio[\"var\"] = interanual(bio[\"T_TDO_indicadoresprincipales\"])\n",
        "\n",
        "    print(\"✅ Datos cargados desde Excel\")\n",
        "\n",
        "except FileNotFoundError:\n",
        "    print(\"⚠️ Archivo Excel no encontrado. Usando datos sintéticos...\")\n",
        "    dates = pd.date_range('2020-01-01', '2024-12-01', freq='MS')\n",
        "    np.random.seed(42)\n",
        "    nac = pd.DataFrame({\n",
        "        'Fecha': dates,\n",
        "        'var': np.random.randn(len(dates)).cumsum() * 0.3 + np.sin(np.arange(len(dates)) * 0.1) * 2\n",
        "    })\n",
        "    bio = pd.DataFrame({\n",
        "        'Fecha': dates,\n",
        "        'var': np.random.randn(len(dates)).cumsum() * 0.4 + np.sin(np.arange(len(dates)) * 0.12) * 1.5 + 0.5\n",
        "    })\n",
        "\n",
        "# ─── 6. Crear gráfico con DM Sans ──────────────────────────────────────────────\n",
        "\n",
        "import matplotlib.dates as mdates\n",
        "from matplotlib.dates import date2num\n",
        "\n",
        "fig, ax = plt.subplots(figsize=(12, 7))\n",
        "\n",
        "# Sombreado leve para pandemia (muy tenue y atrás)\n",
        "ax.axvspan(\n",
        "    date2num(pd.to_datetime(\"2020-03-01\")),\n",
        "    date2num(pd.to_datetime(\"2021-10-01\")),\n",
        "    color=\"#3e3cca\", alpha=0.04, zorder=0\n",
        ")\n",
        "\n",
        "# Líneas principales\n",
        "ax.plot(nac[\"Fecha\"], nac[\"var\"], label=\"Nacional\", color=PALETTE[3], linewidth=2.5, zorder=2)\n",
        "ax.plot(bio[\"Fecha\"], bio[\"var\"], label=\"Biobío\",   color=PALETTE[6], linewidth=2.5, zorder=2)\n",
        "\n",
        "# Línea horizontal en cero (más destacada)\n",
        "ax.axhline(0, color=PALETTE[0], linestyle=\"--\", linewidth=1, alpha=0.6, zorder=1)\n",
        "\n",
        "# Texto “Pandemia” desplazado hacia arriba\n",
        "ax.text(\n",
        "    pd.to_datetime(\"2020-11-15\"),\n",
        "    ax.get_ylim()[1] * 1.03,  # un poquito más alto\n",
        "    \"Pandemia\",\n",
        "    fontproperties=dm_font_props,\n",
        "    fontsize=12,\n",
        "    ha=\"center\",\n",
        "    va=\"bottom\",\n",
        "    color=\"#666666\",\n",
        "    alpha=0.9\n",
        ")\n",
        "\n",
        "\n",
        "# Eje Y\n",
        "ax.set_ylabel(\"Variación (%)\", fontproperties=dm_font_bold, fontsize=14, color=PALETTE[1])\n",
        "\n",
        "# Eje X\n",
        "ax.set_xlabel(\"\")\n",
        "ax.xaxis.set_major_locator(mdates.YearLocator(1))\n",
        "ax.xaxis.set_major_formatter(mdates.DateFormatter(\"%Y\"))\n",
        "ax.tick_params(axis='x', labelsize=12)  # más grande\n",
        "ax.tick_params(axis='y', labelsize=11)\n",
        "\n",
        "# Ticks con DM Sans\n",
        "for label in ax.get_xticklabels() + ax.get_yticklabels():\n",
        "    label.set_fontproperties(dm_font_props)\n",
        "\n",
        "# Fondo: líneas horizontales muy delgadas\n",
        "ax.yaxis.grid(True, linestyle=\":\", linewidth=0.5, alpha=0.25)\n",
        "ax.xaxis.grid(False)\n",
        "\n",
        "# Quita bordes\n",
        "for spine in [\"top\", \"right\"]:\n",
        "    ax.spines[spine].set_visible(False)\n",
        "ax.spines[\"left\"].set_color(PALETTE[0])\n",
        "ax.spines[\"bottom\"].set_color(PALETTE[0])\n",
        "ax.spines[\"left\"].set_linewidth(1)\n",
        "ax.spines[\"bottom\"].set_linewidth(1)\n",
        "\n",
        "# Leyenda\n",
        "ax.legend(\n",
        "    frameon=False, loc=\"upper left\", fontsize=12, prop=dm_font_props\n",
        ")\n",
        "\n",
        "plt.tight_layout()\n",
        "plt.show()\n",
        "\n",
        "\n",
        "\n",
        "# ─── 7. Verificar fuente y mostrar ─────────────────────────────────────────────\n",
        "print(f\"\\n🎨 Fuente configurada: {dm_font_name}\")\n",
        "print(f\"🎨 Fuente en título: {ax.title.get_fontname()}\")\n",
        "print(f\"📊 Total fuentes registradas: {len(registered_fonts)}\")\n",
        "\n",
        "plt.show()\n",
        "\n",
        "# ─── 8. Guardar gráfico ────────────────────────────────────────────────────────\n",
        "try:\n",
        "    OUT_FILE.parent.mkdir(parents=True, exist_ok=True)\n",
        "    plt.savefig(OUT_FILE, dpi=300, bbox_inches='tight',\n",
        "                facecolor='white', edgecolor='none')\n",
        "    print(f\"✅ Gráfico guardado: {OUT_FILE}\")\n",
        "except Exception as e:\n",
        "    backup_path = Path(\"./variacion_tdo_dmsans.png\")\n",
        "    plt.savefig(backup_path, dpi=300, bbox_inches='tight',\n",
        "                facecolor='white', edgecolor='none')\n",
        "    print(f\"📁 Guardado como respaldo: {backup_path}\")"
      ],
      "metadata": {
        "colab": {
          "base_uri": "https://localhost:8080/",
          "height": 835
        },
        "id": "dg3gGtqRaRNU",
        "outputId": "1f697d0f-b7cf-46db-afcc-1c14e4773321"
      },
      "execution_count": 43,
      "outputs": [
        {
          "output_type": "stream",
          "name": "stdout",
          "text": [
            "🔍 Buscando fuentes DM Sans en Google Drive...\n",
            "   📁 Revisando: /content/drive/MyDrive/Data/fonts\n",
            "   ✅ Encontrada: DMSans-Regular.ttf\n",
            "   ✅ Encontrada: DMSans-Bold.ttf\n",
            "   ✅ Encontrada: DMSans-Italic.ttf\n",
            "✅ Registrada: DMSans-Regular.ttf → 'DM Sans'\n",
            "✅ Registrada: DMSans-Bold.ttf → 'DM Sans'\n",
            "✅ Registrada: DMSans-Italic.ttf → 'DM Sans'\n",
            "\n",
            "🎯 Configurando 'DM Sans' como fuente principal\n",
            "✅ DM Sans configurado exitosamente\n",
            "✅ Datos cargados desde Excel\n"
          ]
        },
        {
          "output_type": "display_data",
          "data": {
            "text/plain": [
              "<Figure size 640x480 with 0 Axes>"
            ]
          },
          "metadata": {}
        },
        {
          "output_type": "display_data",
          "data": {
            "text/plain": [
              "<Figure size 1200x700 with 1 Axes>"
            ],
            "image/png": "[encoded data removed]"
          },
          "metadata": {}
        },
        {
          "output_type": "stream",
          "name": "stdout",
          "text": [
            "\n",
            "🎨 Fuente configurada: DM Sans\n",
            "🎨 Fuente en título: DM Sans\n",
            "📊 Total fuentes registradas: 3\n",
            "✅ Gráfico guardado: /content/drive/MyDrive/Data/Mercado_Laboral/Biobio/resultados/variacion_tdo.png\n"
          ]
        }
      ]
    },
    {
      "cell_type": "code",
      "source": [
        "# ─── 1. Configuración inicial ─────────────────────────────────────────────────\n",
        "import os\n",
        "import numpy as np\n",
        "import pandas as pd\n",
        "import matplotlib.pyplot as plt\n",
        "import matplotlib.font_manager as fm\n",
        "from pathlib import Path\n",
        "\n",
        "# Paleta institucional\n",
        "PALETTE = [\n",
        "    \"#4c5256\", \"#2e3351\", \"#161233\", \"#3e3cca\",\n",
        "    \"#c0c8eb\", \"#798dbf\", \"#ac78ff\", \"#48aee8\",\n",
        "]\n",
        "\n",
        "# Paths\n",
        "FONT_PATHS = [\"/content/drive/MyDrive/Data/fonts/\"]\n",
        "PANEL_PATH = Path(\"/content/drive/MyDrive/Data/Mercado_Laboral/Biobio/resultados/panel_ENE_unificado.xlsx\")\n",
        "OUT_FILE   = Path(\"/content/drive/MyDrive/Data/Mercado_Laboral/Biobio/resultados/variacion_tdo.png\")\n",
        "\n",
        "# ─── 2. Cargar fuentes DM Sans desde Drive ────────────────────────────────────\n",
        "FONT_FILES = [\"DMSans-Regular.ttf\", \"DMSans-Bold.ttf\", \"DMSans-Italic.ttf\"]\n",
        "found_fonts = []\n",
        "for base_path in FONT_PATHS:\n",
        "    for font_file in FONT_FILES:\n",
        "        font_path = Path(base_path) / font_file\n",
        "        if font_path.exists():\n",
        "            fm.fontManager.addfont(str(font_path))\n",
        "            found_fonts.append(font_path)\n",
        "\n",
        "dm_font_name = fm.FontProperties(fname=str(found_fonts[0])).get_name()\n",
        "dm_font_props = fm.FontProperties(family=dm_font_name)\n",
        "dm_font_bold  = fm.FontProperties(family=dm_font_name, weight=\"bold\")\n",
        "\n",
        "plt.rcParams.update({\n",
        "    'font.family': 'sans-serif',\n",
        "    'font.sans-serif': [dm_font_name, 'DejaVu Sans']\n",
        "})\n",
        "\n",
        "# ─── 3. Cargar datos y calcular promedio anual ────────────────────────────────\n",
        "df = pd.read_excel(PANEL_PATH, sheet_name=\"biobio_vs_nacional\")\n",
        "df[\"Fecha\"] = pd.to_datetime(df[\"Fecha\"])\n",
        "df[\"Año\"] = df[\"Fecha\"].dt.year\n",
        "\n",
        "prom = df.groupby([\"Año\", \"region_name\"])[\"T_TDO_indicadoresprincipales\"].mean().unstack()\n",
        "prom = prom[prom.index >= 2011]  # Puedes ajustar este filtro\n",
        "\n",
        "# ─── 4. Gráfico de barras ─────────────────────────────────────────────────────\n",
        "fig, ax = plt.subplots(figsize=(10, 6))\n",
        "bar_width = 0.35\n",
        "x = np.arange(len(prom.index))\n",
        "\n",
        "# Barras\n",
        "ax.bar(x - bar_width/2, prom[\"Nacional\"], width=bar_width,\n",
        "       color=PALETTE[3], label=\"Nacional\")\n",
        "ax.bar(x + bar_width/2, prom[\"Biobío\"], width=bar_width,\n",
        "       color=PALETTE[6], label=\"Biobío\")\n",
        "\n",
        "# Eje X\n",
        "ax.set_xticks(x)\n",
        "ax.set_xticklabels(prom.index, fontproperties=dm_font_props, fontsize=12)\n",
        "\n",
        "# Eje Y\n",
        "ax.set_ylabel(\"Promedio Anual (%)\",\n",
        "              fontproperties=dm_font_bold, fontsize=14, color=PALETTE[1])\n",
        "ax.tick_params(axis='y', labelsize=11)\n",
        "for label in ax.get_yticklabels():\n",
        "    label.set_fontproperties(dm_font_props)\n",
        "\n",
        "# Línea cero y rejilla\n",
        "ax.axhline(0, color=PALETTE[0], linestyle=\"--\", linewidth=1, alpha=0.4)\n",
        "ax.yaxis.grid(True, linestyle=\":\", linewidth=0.5, alpha=0.25)\n",
        "ax.xaxis.grid(False)\n",
        "\n",
        "# Sombreado pandemia\n",
        "x_dict = {año: i for i, año in enumerate(prom.index)}\n",
        "if 2020 in x_dict and 2021 in x_dict:\n",
        "    ax.axvspan(x_dict[2020] - 0.5, x_dict[2021] + 0.5,\n",
        "               color=PALETTE[3], alpha=0.05, zorder=0)\n",
        "\n",
        "# Layout antes de insertar texto para conocer los límites\n",
        "plt.tight_layout()\n",
        "plt.draw()  # <-- Importante para actualizar ax.get_ylim()\n",
        "\n",
        "# 1. Subimos límite del eje Y con margen cómodo\n",
        "y_max = prom.max().max() + 1.6\n",
        "ax.set_ylim(0, y_max)\n",
        "\n",
        "# 2. Texto “Pandemia” más arriba, sin superposición\n",
        "ax.text(x_centro, y_max * 0.97,\n",
        "        \"Pandemia\", ha=\"center\", va=\"top\",\n",
        "        fontsize=11, fontproperties=dm_font_props,\n",
        "        color=PALETTE[0], alpha=0.6)\n",
        "\n",
        "# 3. Etiquetas sobre barras, más espaciadas\n",
        "for i, año in enumerate(prom.index):\n",
        "    nac_val = prom.loc[año, \"Nacional\"]\n",
        "    bio_val = prom.loc[año, \"Biobío\"]\n",
        "\n",
        "    ax.text(x[i] - bar_width/2, nac_val + 0.15, f\"{nac_val:.1f}\",\n",
        "            ha=\"center\", fontsize=8, fontproperties=dm_font_props,\n",
        "            color=PALETTE[3])\n",
        "\n",
        "    ax.text(x[i] + bar_width/2, bio_val + 0.15, f\"{bio_val:.1f}\",\n",
        "            ha=\"center\", fontsize=8, fontproperties=dm_font_props,\n",
        "            color=PALETTE[6])\n",
        "\n",
        "# Leyenda\n",
        "ax.legend(frameon=False, loc=\"upper right\",\n",
        "          prop=dm_font_props, fontsize=12)\n",
        "\n",
        "# Bordes\n",
        "for spine in [\"top\", \"right\"]:\n",
        "    ax.spines[spine].set_visible(False)\n",
        "ax.spines[\"left\"].set_color(PALETTE[0])\n",
        "ax.spines[\"bottom\"].set_color(PALETTE[0])\n",
        "\n",
        "# Mostrar y guardar\n",
        "plt.show()\n",
        "\n",
        "try:\n",
        "    OUT_FILE.parent.mkdir(parents=True, exist_ok=True)\n",
        "    plt.savefig(OUT_FILE, dpi=300, bbox_inches='tight',\n",
        "                facecolor='white', edgecolor='none')\n",
        "    print(f\"✅ Gráfico guardado: {OUT_FILE}\")\n",
        "except Exception as e:\n",
        "    print(f\"⚠️ Error al guardar: {e}\")\n"
      ],
      "metadata": {
        "colab": {
          "base_uri": "https://localhost:8080/",
          "height": 571
        },
        "id": "WVLR2nR-q0iC",
        "outputId": "4b4db1a6-65ab-405d-9afd-8b3b71ea0540"
      },
      "execution_count": 64,
      "outputs": [
        {
          "output_type": "display_data",
          "data": {
            "text/plain": [
              "<Figure size 640x480 with 0 Axes>"
            ]
          },
          "metadata": {}
        },
        {
          "output_type": "display_data",
          "data": {
            "text/plain": [
              "<Figure size 1000x600 with 1 Axes>"
            ],
            "image/png": "[encoded data removed]"
          },
          "metadata": {}
        },
        {
          "output_type": "stream",
          "name": "stdout",
          "text": [
            "✅ Gráfico guardado: /content/drive/MyDrive/Data/Mercado_Laboral/Biobio/resultados/variacion_tdo.png\n"
          ]
        }
      ]
    },
    {
      "cell_type": "code",
      "source": [
        "from google.colab import drive\n",
        "drive.mount('/content/drive')"
      ],
      "metadata": {
        "colab": {
          "base_uri": "https://localhost:8080/"
        },
        "id": "zbK2CZARKI3L",
        "outputId": "403e170f-8514-4cdf-e926-23e1b6c221d6"
      },
      "execution_count": 18,
      "outputs": [
        {
          "output_type": "stream",
          "name": "stdout",
          "text": [
            "Drive already mounted at /content/drive; to attempt to forcibly remount, call drive.mount(\"/content/drive\", force_remount=True).\n"
          ]
        }
      ]
    }
  ]
}