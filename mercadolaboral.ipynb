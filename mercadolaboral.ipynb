{
  "nbformat": 4,
  "nbformat_minor": 0,
  "metadata": {
    "colab": {
      "provenance": [],
      "toc_visible": true,
      "authorship_tag": "ABX9TyNcr+zMZhalbDJ2SP+CUvsu",
      "include_colab_link": true
    },
    "kernelspec": {
      "name": "python3",
      "display_name": "Python 3"
    },
    "language_info": {
      "name": "python"
    }
  },
  "cells": [
    {
      "cell_type": "markdown",
      "metadata": {
        "id": "view-in-github",
        "colab_type": "text"
      },
      "source": [
        "<a href=\"https://colab.research.google.com/github/catalinakarinip/mercadolabroal/blob/main/mercadolaboral.ipynb\" target=\"_parent\"><img src=\"https://colab.research.google.com/assets/colab-badge.svg\" alt=\"Open In Colab\"/></a>"
      ]
    },
    {
      "cell_type": "markdown",
      "source": [
        "# Script 1: Limpieza bases INE"
      ],
      "metadata": {
        "id": "Uc46ixsIkE-N"
      }
    },
    {
      "cell_type": "markdown",
      "source": [
        "Para actualizar las bases limpias se debe\n",
        "1. Subir las bbdd originales del INE\n",
        "2. Ver si la base de diccionario \"variables_por_base\" mantiene las columnas, y por tanto las abreviaturas corresponden\n",
        "3. Cambiar nombre del archivo al compatible con la base de diccionario\n",
        "\n",
        "El code se demora 1 min en crear todas las bases limpias!!\n"
      ],
      "metadata": {
        "id": "st4DOtEXyi38"
      }
    },
    {
      "cell_type": "code",
      "source": [
        "# ================= 0. MONTAR DRIVE =====================================\n",
        "from google.colab import drive\n",
        "drive.mount('/content/drive')"
      ],
      "metadata": {
        "colab": {
          "base_uri": "https://localhost:8080/"
        },
        "id": "sqSMPFVqfHpg",
        "outputId": "2f6e0c71-9425-40e9-ba99-dcc04fde2b1b"
      },
      "execution_count": 16,
      "outputs": [
        {
          "output_type": "stream",
          "name": "stdout",
          "text": [
            "Drive already mounted at /content/drive; to attempt to forcibly remount, call drive.mount(\"/content/drive\", force_remount=True).\n"
          ]
        }
      ]
    },
    {
      "cell_type": "code",
      "source": [
        "# ================= 1. LIBRERÍAS Y RUTA ========================================\n",
        "from pathlib import Path\n",
        "import pandas as pd\n",
        "import re\n",
        "\n",
        "ROOT = Path(\"/content/drive/MyDrive/Data/Mercado_Laboral/Biobio\")\n",
        "ORIG_DIR = ROOT / \"Datos_ENE_originales\"\n",
        "CLEAN_DIR = ROOT / \"Datos_ENE_limpios\"\n",
        "CLEAN_DIR.mkdir(parents=True, exist_ok=True)\n",
        "\n",
        "MAP_FILE = ROOT / \"resultados/variables_por_base.xlsx\"\n",
        "MAP_SHEET = 0\n",
        "\n",
        "# ================= 2. DICCIONARIO DE ABREVIATURAS =====================\n",
        "def load_abbreviations() -> dict:\n",
        "    df_map = (\n",
        "        pd.read_excel(MAP_FILE, sheet_name=MAP_SHEET, usecols=\"A:C\")\n",
        "        .rename(columns=str.lower)\n",
        "        .dropna()\n",
        "    )\n",
        "    df_map[\"base\"] = (\n",
        "        df_map[\"base\"].str.strip().str.replace(\".xlsx\", \"\", regex=False).str.lower()\n",
        "    )\n",
        "    df_map[\"var_original\"] = df_map[\"var_original\"].str.strip()\n",
        "    df_map[\"abreviatura\"] = df_map[\"abreviatura\"].str.strip()\n",
        "    return {(r.base, r.var_original): r.abreviatura for r in df_map.itertuples()}\n",
        "\n",
        "# ================= 4. HOJAS A CONSERVAR ================================\n",
        "ID_VARS = [\"Año\", \"Trimestre\"]\n",
        "HOJAS_OBJETIVO = {\n",
        "    \"AS\",\n",
        "    \"AP\",\n",
        "    \"TA\",\n",
        "    \"AN\",\n",
        "    \"AT\",\n",
        "    \"CO\",\n",
        "    \"VA\",\n",
        "    \"RM\",\n",
        "    \"LI\",\n",
        "    \"ML\",\n",
        "    \"NB\",\n",
        "    \"BI\",\n",
        "    \"AR\",\n",
        "    \"LR\",\n",
        "    \"LL\",\n",
        "    \"AI\",\n",
        "    \"MA\",\n",
        "}\n",
        "\n",
        "# ================= 5. CONVERSIÓN NÚMEROS LATINOS =======================\n",
        "\n",
        "LATIN_NUMBER_RE = re.compile(r\"^\\d{1,3}(\\.\\d{3})*(,\\d+)?$\")\n",
        "\n",
        "def texto_a_numero(valor: str):\n",
        "    if pd.isna(valor):\n",
        "        return None\n",
        "    texto = str(valor)\n",
        "    if LATIN_NUMBER_RE.match(texto):\n",
        "        texto = texto.replace(\".\", \"\").replace(\",\", \".\")\n",
        "    else:\n",
        "        texto = texto.replace(\",\", \".\")\n",
        "    try:\n",
        "        return float(texto)\n",
        "    except ValueError:\n",
        "        return None\n",
        "\n",
        "# ================= 6. LIMPIADOR DE HOJAS ===============================\n",
        "def limpiar_hoja(df: pd.DataFrame, base_alias: str, abbr: dict) -> pd.DataFrame:\n",
        "    df = df.copy()\n",
        "    df.columns = df.columns.str.strip()\n",
        "    columnas_a_borrar = []\n",
        "    renombres = {}\n",
        "    columnas = list(df.columns)\n",
        "\n",
        "    for i, col in enumerate(columnas):\n",
        "        if col in ID_VARS or \"Unnamed\" not in col:\n",
        "            continue\n",
        "        anterior = columnas[i - 1].strip() if i > 0 else \"\"\n",
        "        if anterior in ID_VARS or not anterior:\n",
        "            columnas_a_borrar.append(col)\n",
        "            continue\n",
        "        alias = abbr.get((base_alias, anterior))\n",
        "        if alias:\n",
        "            renombres[col] = f\"{alias}_{base_alias}\"\n",
        "        else:\n",
        "            columnas_a_borrar.append(col)\n",
        "\n",
        "    df = df.drop(columns=columnas_a_borrar, errors=\"ignore\").rename(columns=renombres)\n",
        "    df = df[df[ID_VARS[0]].notna() | df[ID_VARS[1]].notna()].reset_index(drop=True)\n",
        "\n",
        "    # Normalize quarter names so they match TRIM_OK in unify_panel.py\n",
        "    quarter_map = {\n",
        "        \"1\": \"Ene - Mar\",\n",
        "        \"2\": \"Abr - Jun\",\n",
        "        \"3\": \"Jul - Sep\",\n",
        "        \"4\": \"Oct - Dic\",\n",
        "        \"ene-mar\": \"Ene - Mar\",\n",
        "        \"abr-jun\": \"Abr - Jun\",\n",
        "        \"jul-sep\": \"Jul - Sep\",\n",
        "        \"oct-dic\": \"Oct - Dic\",\n",
        "        \"ene - mar\": \"Ene - Mar\",\n",
        "        \"abr - jun\": \"Abr - Jun\",\n",
        "        \"jul - sep\": \"Jul - Sep\",\n",
        "        \"oct - dic\": \"Oct - Dic\",\n",
        "    }\n",
        "    df[\"Trimestre\"] = (\n",
        "        df[\"Trimestre\"].astype(str).str.strip().str.lower().replace(quarter_map)\n",
        "    )\n",
        "    df[\"Año\"] = pd.to_numeric(df[\"Año\"], errors=\"coerce\")\n",
        "\n",
        "    for col in renombres.values():\n",
        "        df[col] = df[col].apply(texto_a_numero)\n",
        "\n",
        "    return df[[*ID_VARS, *renombres.values()]]\n",
        "\n",
        "# ================= 7. PROCESAR ARCHIVOS =================================\n",
        "def procesar_archivos():\n",
        "    abbr = load_abbreviations()\n",
        "    for src in ORIG_DIR.glob(\"*.xlsx\"):\n",
        "        base_alias = src.stem.split(\"_\")[0].lower()\n",
        "        dest = CLEAN_DIR / f\"{base_alias}_limpia.xlsx\"\n",
        "        if dest.exists():\n",
        "            print(f\"↻  Reemplazando {dest.name}\")\n",
        "        else:\n",
        "            print(f\"→ Procesando {src.name} (base={base_alias})\")\n",
        "        xls = pd.ExcelFile(src)\n",
        "        with pd.ExcelWriter(dest, engine=\"openpyxl\") as xlw:\n",
        "            hojas_guardadas = 0\n",
        "            for hoja in xls.sheet_names:\n",
        "                if hoja not in HOJAS_OBJETIVO:\n",
        "                    continue\n",
        "                try:\n",
        "                    raw = xls.parse(hoja, header=5, dtype=str)\n",
        "                    limpio = limpiar_hoja(raw, base_alias, abbr)\n",
        "                    if not limpio.empty:\n",
        "                        limpio.to_excel(xlw, sheet_name=hoja, index=False)\n",
        "                        hojas_guardadas += 1\n",
        "                except Exception as e:\n",
        "                    print(f\"⚠️ Error en hoja '{hoja}': {e}\")\n",
        "            if hojas_guardadas == 0:\n",
        "                print(f\"⚠️ Ninguna hoja válida guardada en {src.name}\")\n",
        "    print(\"\\n✅ Limpieza completada. Archivos en:\", CLEAN_DIR)\n",
        "\n",
        "if __name__ == \"__main__\":\n",
        "    procesar_archivos()\n",
        "\n"
      ],
      "metadata": {
        "colab": {
          "base_uri": "https://localhost:8080/"
        },
        "id": "ysdcgLQAt61r",
        "outputId": "52653d6f-1e03-4e09-8c4e-b995e3e3da70"
      },
      "execution_count": 17,
      "outputs": [
        {
          "output_type": "stream",
          "name": "stdout",
          "text": [
            "↻  Reemplazando rama_limpia.xlsx\n",
            "↻  Reemplazando informalidadtasas_limpia.xlsx\n",
            "↻  Reemplazando informalidadrama_limpia.xlsx\n",
            "↻  Reemplazando informalidadgrupo_limpia.xlsx\n",
            "↻  Reemplazando informalidadcategoria_limpia.xlsx\n",
            "↻  Reemplazando indicadoresprincipales_limpia.xlsx\n",
            "↻  Reemplazando grupo_limpia.xlsx\n",
            "↻  Reemplazando complementarios_limpia.xlsx\n",
            "↻  Reemplazando categoria_limpia.xlsx\n",
            "\n",
            "✅ Limpieza completada. Archivos en: /content/drive/MyDrive/Data/Mercado_Laboral/Biobio/Datos_ENE_limpios\n"
          ]
        }
      ]
    },
    {
      "cell_type": "markdown",
      "source": [
        "# Script 2.1: Panel de datos"
      ],
      "metadata": {
        "id": "Z9yXzopv8_2K"
      }
    },
    {
      "cell_type": "code",
      "source": [
        "# ================= 0. MONTAR DRIVE =====================================\n",
        "from google.colab import drive\n",
        "drive.mount('/content/drive')"
      ],
      "metadata": {
        "colab": {
          "base_uri": "https://localhost:8080/"
        },
        "id": "9kIEg0A_fLqD",
        "outputId": "38598587-8e9c-4ba1-9556-f91097ddf90d"
      },
      "execution_count": 40,
      "outputs": [
        {
          "output_type": "stream",
          "name": "stdout",
          "text": [
            "Drive already mounted at /content/drive; to attempt to forcibly remount, call drive.mount(\"/content/drive\", force_remount=True).\n"
          ]
        }
      ]
    },
    {
      "cell_type": "code",
      "source": [
        "# ================= 1. LIBRERÍAS Y PATH ========================================\n",
        "from pathlib import Path\n",
        "import pandas as pd\n",
        "ROOT = Path(\"/content/drive/MyDrive/Data/Mercado_Laboral/Biobio\")\n",
        "CLEAN_DIR = ROOT / \"Datos_ENE_limpios\"\n",
        "PANEL_FILE = ROOT / \"resultados\" / \"panel_ENE_unificado.xlsx\"\n",
        "\n",
        "TRIM_OK = {\"Ene - Mar\", \"Abr - Jun\", \"Jul - Sep\", \"Oct - Dic\"}\n",
        "MAPA = {\n",
        "    \"AP\": \"Arica y Parinacota\",\n",
        "    \"TA\": \"Tarapacá\",\n",
        "    \"AN\": \"Antofagasta\",\n",
        "    \"AT\": \"Atacama\",\n",
        "    \"CO\": \"Coquimbo\",\n",
        "    \"VA\": \"Valparaíso\",\n",
        "    \"RM\": \"Región Metropolitana\",\n",
        "    \"LI\": \"O’Higgins\",\n",
        "    \"ML\": \"Maule\",\n",
        "    \"NB\": \"Ñuble\",\n",
        "    \"BI\": \"Biobío\",\n",
        "    \"AR\": \"Araucanía\",\n",
        "    \"LR\": \"Los Ríos\",\n",
        "    \"LL\": \"Los Lagos\",\n",
        "    \"AI\": \"Aysén\",\n",
        "    \"MA\": \"Magallanes\",\n",
        "    \"AS\": \"Nacional\",\n",
        "}\n",
        "REGIONES = set(MAPA.keys())\n",
        "ID_VARS = [\"Año\", \"Trimestre\", \"region_code\", \"region_name\"]\n",
        "TRIM_MAP = {\"Ene - Mar\": 1, \"Abr - Jun\": 2, \"Jul - Sep\": 3, \"Oct - Dic\": 4}\n",
        "\n",
        "# ================= 2.MAPEO INICIAL ===========================\n",
        "\n",
        "def cargar_base(path: Path) -> pd.DataFrame:\n",
        "    xls = pd.ExcelFile(path)\n",
        "    registros = []\n",
        "    for hoja in xls.sheet_names:\n",
        "        if hoja not in REGIONES:\n",
        "            continue\n",
        "        df = pd.read_excel(xls, sheet_name=hoja)\n",
        "        df = df[df[\"Trimestre\"].isin(TRIM_OK)].copy()\n",
        "        df[\"region_code\"] = hoja\n",
        "        df[\"region_name\"] = MAPA[hoja]\n",
        "        registros.append(df)\n",
        "    if registros:\n",
        "        return pd.concat(registros, ignore_index=True)\n",
        "    return pd.DataFrame(columns=ID_VARS)\n",
        "\n",
        "\n",
        "# ================= 3. CONSTRUCCIÓN DEL PANEL ===========================\n",
        "def construir_panel():\n",
        "    panel = None\n",
        "    for archivo in CLEAN_DIR.glob(\"*_limpia.xlsx\"):\n",
        "        df_base = cargar_base(archivo)\n",
        "        if df_base.empty:\n",
        "            continue\n",
        "        if panel is None:\n",
        "            panel = df_base\n",
        "        else:\n",
        "            panel = pd.merge(panel, df_base, on=ID_VARS, how=\"outer\")\n",
        "    if panel is None:\n",
        "        print(\"No se encontraron archivos limpios\")\n",
        "        return\n",
        "    panel[\"Trimestre_num\"] = panel[\"Trimestre\"].map(TRIM_MAP)\n",
        "    panel = (\n",
        "        panel.sort_values(\n",
        "            [\"Año\", \"Trimestre_num\", \"region_code\", \"region_name\"]\n",
        "        )\n",
        "        .drop(columns=\"Trimestre_num\")\n",
        "        .reset_index(drop=True)\n",
        "    )\n",
        "    panel[\"Periodo\"] = pd.PeriodIndex(\n",
        "        year=panel[\"Año\"],\n",
        "        quarter=panel[\"Trimestre\"].map(TRIM_MAP),\n",
        "        freq=\"Q\",\n",
        "    )\n",
        "    panel[\"Fecha\"] = panel[\"Periodo\"].dt.start_time\n",
        "    #panel[\"Periodo_str\"] = panel[\"Periodo\"].astype(str)\n",
        "\n",
        "    PANEL_FILE.parent.mkdir(parents=True, exist_ok=True)\n",
        "    if PANEL_FILE.exists():\n",
        "        print(f\"↻  Reemplazando {PANEL_FILE.name}\")\n",
        "    panel.to_excel(PANEL_FILE, index=False, sheet_name=\"panel_data\")\n",
        "    print(\"✅ Panel construido y guardado en:\", PANEL_FILE)\n",
        "\n",
        "if __name__ == \"__main__\":\n",
        "    construir_panel()"
      ],
      "metadata": {
        "colab": {
          "base_uri": "https://localhost:8080/"
        },
        "id": "tS6MeK7R-38i",
        "outputId": "0deaf9d3-e95d-49e2-90ca-f2b03a35bfd8"
      },
      "execution_count": 41,
      "outputs": [
        {
          "output_type": "stream",
          "name": "stderr",
          "text": [
            "<ipython-input-41-1241934044>:72: FutureWarning: Constructing PeriodIndex from fields is deprecated. Use PeriodIndex.from_fields instead.\n",
            "  panel[\"Periodo\"] = pd.PeriodIndex(\n"
          ]
        },
        {
          "output_type": "stream",
          "name": "stdout",
          "text": [
            "↻  Reemplazando panel_ENE_unificado.xlsx\n",
            "✅ Panel construido y guardado en: /content/drive/MyDrive/Data/Mercado_Laboral/Biobio/resultados/panel_ENE_unificado.xlsx\n"
          ]
        }
      ]
    },
    {
      "cell_type": "markdown",
      "source": [
        "# Script 2.2: Panel BioBio vs Nacional"
      ],
      "metadata": {
        "id": "fWSnFJRs5O3Y"
      }
    },
    {
      "cell_type": "code",
      "source": [
        "# ================= Panel Biobío vs Nacional =====================\n",
        "import pandas as pd\n",
        "from pathlib import Path\n",
        "\n",
        "# === Paths y variables ===\n",
        "ROOT = Path('/content/drive/MyDrive/Data/Mercado_Laboral/Biobio')\n",
        "PANEL_FILE = ROOT / 'resultados' / 'panel_ENE_unificado.xlsx'\n",
        "\n",
        "vars_sel = [\n",
        "    'T_TDO_indicadoresprincipales',\n",
        "    'T_TO_indicadoresprincipales',\n",
        "    'T_TP_indicadoresprincipales',\n",
        "    'T_TOI_A_informalidadtasas',\n",
        "    'T_TOI_H_informalidadtasas',\n",
        "    'T_TOI_M_informalidadtasas',\n",
        "]\n",
        "\n",
        "TRIM_MAP = {\"Ene - Mar\": 1, \"Abr - Jun\": 2, \"Jul - Sep\": 3, \"Oct - Dic\": 4}\n",
        "\n",
        "# === Cargar y filtrar ===\n",
        "df = pd.read_excel(PANEL_FILE, sheet_name='panel_data')\n",
        "df = df[df['region_name'].isin(['Biobío', 'Nacional'])].copy()\n",
        "\n",
        "# Añadir orden temporal\n",
        "df[\"Trimestre_num\"] = df[\"Trimestre\"].map(TRIM_MAP)\n",
        "df = df.sort_values([\"Año\", \"Trimestre_num\", \"region_name\"])\n",
        "\n",
        "# Seleccionar columnas en orden\n",
        "cols_final = ['Año', 'Trimestre', 'region_name'] + vars_sel\n",
        "df_panel = df[cols_final]\n",
        "\n",
        "# Guardar como nueva hoja\n",
        "with pd.ExcelWriter(PANEL_FILE, engine='openpyxl', mode='a', if_sheet_exists='replace') as writer:\n",
        "    df_panel.to_excel(writer, sheet_name='biobio_vs_nacional', index=False)\n",
        "\n",
        "print(f\"✅ Hoja «biobio_vs_nacional» creada con {len(df_panel)} filas.\")\n"
      ],
      "metadata": {
        "colab": {
          "base_uri": "https://localhost:8080/"
        },
        "id": "7MC-oJV34sLl",
        "outputId": "edd8688c-d309-49ef-ad39-5acb2fc1f33d"
      },
      "execution_count": 45,
      "outputs": [
        {
          "output_type": "stream",
          "name": "stdout",
          "text": [
            "✅ Hoja «biobio_vs_nacional» creada con 122 filas.\n"
          ]
        }
      ]
    },
    {
      "cell_type": "code",
      "source": [
        "# ================= Panel Biobío vs Nacional =====================\n",
        "import pandas as pd\n",
        "from pathlib import Path\n",
        "\n",
        "# === Paths y variables ===\n",
        "ROOT = Path('/content/drive/MyDrive/Data/Mercado_Laboral/Biobio')\n",
        "PANEL_FILE = ROOT / 'resultados' / 'panel_ENE_unificado.xlsx'\n",
        "\n",
        "vars_sel = [\n",
        "    'T_TDO_indicadoresprincipales',\n",
        "    'T_TO_indicadoresprincipales',\n",
        "    'T_TP_indicadoresprincipales',\n",
        "    'T_TOI_A_informalidadtasas',\n",
        "    'T_TOI_H_informalidadtasas',\n",
        "    'T_TOI_M_informalidadtasas',\n",
        "]\n",
        "\n",
        "TRIM_MAP = {\"Ene - Mar\": 1, \"Abr - Jun\": 2, \"Jul - Sep\": 3, \"Oct - Dic\": 4}\n",
        "\n",
        "# === Cargar y filtrar ===\n",
        "df = pd.read_excel(PANEL_FILE, sheet_name='panel_data')\n",
        "df = df[df['region_name'].isin(['Biobío', 'Nacional'])].copy()\n",
        "\n",
        "# Añadir periodo y fecha\n",
        "df[\"Trimestre_num\"] = df[\"Trimestre\"].map(TRIM_MAP)\n",
        "df[\"Periodo\"] = pd.PeriodIndex.from_fields(\n",
        "    year=df[\"Año\"],\n",
        "    quarter=df[\"Trimestre_num\"],\n",
        "    freq=\"Q\"\n",
        ")\n",
        "df[\"Fecha\"] = df[\"Periodo\"].dt.start_time\n",
        "\n",
        "# Ordenar y seleccionar columnas finales\n",
        "df = df.sort_values([\"Periodo\", \"region_name\"])\n",
        "cols_final = ['Periodo', 'Fecha', 'Año', 'Trimestre', 'region_name'] + vars_sel\n",
        "df_panel = df[cols_final]\n",
        "\n",
        "# Guardar como nueva hoja\n",
        "with pd.ExcelWriter(PANEL_FILE, engine='openpyxl', mode='a', if_sheet_exists='replace') as writer:\n",
        "    df_panel.to_excel(writer, sheet_name='biobio_vs_nacional', index=False)\n",
        "\n",
        "print(f\"✅ Hoja «biobio_vs_nacional» creada con {len(df_panel)} filas.\")\n"
      ],
      "metadata": {
        "colab": {
          "base_uri": "https://localhost:8080/"
        },
        "id": "gjxBsDkDJwfd",
        "outputId": "68cfa481-0460-46ee-841c-f06b35933232"
      },
      "execution_count": 47,
      "outputs": [
        {
          "output_type": "stream",
          "name": "stdout",
          "text": [
            "✅ Hoja «biobio_vs_nacional» creada con 122 filas.\n"
          ]
        }
      ]
    },
    {
      "cell_type": "markdown",
      "source": [
        "# Script 3: BBDD anual 2024"
      ],
      "metadata": {
        "id": "pdGhYYSuHky6"
      }
    },
    {
      "cell_type": "code",
      "source": [
        "from google.colab import drive\n",
        "drive.mount('/content/drive')\n"
      ],
      "metadata": {
        "colab": {
          "base_uri": "https://localhost:8080/"
        },
        "id": "GWbT5b7wfQIg",
        "outputId": "f0e4e009-0af1-4f31-a8bb-0a6402f6512c"
      },
      "execution_count": 21,
      "outputs": [
        {
          "output_type": "stream",
          "name": "stdout",
          "text": [
            "Drive already mounted at /content/drive; to attempt to forcibly remount, call drive.mount(\"/content/drive\", force_remount=True).\n"
          ]
        }
      ]
    },
    {
      "cell_type": "code",
      "source": [
        "import pandas as pd\n",
        "\n",
        "# 1️⃣  Parámetros\n",
        "archivo_excel = \"/content/drive/MyDrive/Data/Mercado_Laboral/Biobio/resultados/panel_ENE_unificado.xlsx\"\n",
        "hoja_origen   = \"panel_data\"\n",
        "anio          = 2024\n",
        "hoja_filtrada = f\"data_{anio}\"\n",
        "hoja_prom     = f\"promedios_{anio}\"\n",
        "\n",
        "TRIM_MAP = {\"Ene - Mar\": 1, \"Abr - Jun\": 2, \"Jul - Sep\": 3, \"Oct - Dic\": 4}\n",
        "\n",
        "# 2️⃣  Leer la hoja principal y filtrar solo el año objetivo\n",
        "df_anio = (\n",
        "    pd.read_excel(archivo_excel, sheet_name=\"panel_data\")\n",
        "      .query(\"Año == @anio\")\n",
        ")\n",
        "\n",
        "df_anio = pd.read_excel(archivo_excel, sheet_name=hoja_origen).query(\"Año == @anio\").copy()\n",
        "\n",
        "if \"Periodo\" not in df_anio.columns:\n",
        "    df_anio[\"Trimestre_num\"] = df_anio[\"Trimestre\"].map(TRIM_MAP)\n",
        "    df_anio[\"Periodo\"] = pd.PeriodIndex.from_fields(df_anio[\"Año\"], df_anio[\"Trimestre_num\"], freq=\"Q\")\n",
        "    df_anio[\"Fecha\"] = df_anio[\"Periodo\"].dt.start_time\n",
        "    df_anio.drop(columns=\"Trimestre_num\", inplace=True)\n",
        "\n",
        "\n",
        "# 3️⃣  Calcular promedios regionales\n",
        "indicadores = [\n",
        "    \"T_TDO_indicadoresprincipales\",\n",
        "    \"T_TO_indicadoresprincipales\",\n",
        "    \"T_TP_indicadoresprincipales\",\n",
        "    \"T_TOI_A_informalidadtasas\",\n",
        "    \"T_TOI_H_informalidadtasas\",\n",
        "    \"T_TOI_M_informalidadtasas\",\n",
        "]\n",
        "\n",
        "promedios = (\n",
        "    df_anio.groupby(\"region_name\")[indicadores]\n",
        "           .mean()\n",
        "           .reset_index()\n",
        "           .round(3)\n",
        ")\n",
        "\n",
        "# 4️⃣  Escribir ambas hojas dentro del mismo archivo\n",
        "with pd.ExcelWriter(\n",
        "        archivo_excel,\n",
        "        engine=\"openpyxl\",\n",
        "        mode=\"a\",\n",
        "        if_sheet_exists=\"replace\"\n",
        "    ) as writer:\n",
        "    df_anio.to_excel(writer, sheet_name=hoja_filtrada, index=False)\n",
        "    promedios.to_excel(writer, sheet_name=hoja_prom, index=False)\n",
        "\n",
        "print(f\"✅ Hoja «{hoja_filtrada}» ({len(df_anio)} filas) y «{hoja_prom}» ({len(promedios)} regiones) creadas/actualizadas.\")"
      ],
      "metadata": {
        "colab": {
          "base_uri": "https://localhost:8080/"
        },
        "id": "3792zrK2fUWt",
        "outputId": "850d7a4f-0ea0-475e-e512-944a487ff032"
      },
      "execution_count": 49,
      "outputs": [
        {
          "output_type": "stream",
          "name": "stdout",
          "text": [
            "✅ Hoja «data_2024» (68 filas) y «promedios_2024» (17 regiones) creadas/actualizadas.\n"
          ]
        }
      ]
    },
    {
      "cell_type": "markdown",
      "source": [
        "# Script 4: BBDD anual 2025"
      ],
      "metadata": {
        "id": "L3pPxnbygVHX"
      }
    },
    {
      "cell_type": "code",
      "source": [
        "from google.colab import drive\n",
        "drive.mount('/content/drive')"
      ],
      "metadata": {
        "colab": {
          "base_uri": "https://localhost:8080/"
        },
        "id": "-BEspkKKgd19",
        "outputId": "87cafe4c-3cbe-4ff3-f504-e3dbaf79b193"
      },
      "execution_count": 10,
      "outputs": [
        {
          "output_type": "stream",
          "name": "stdout",
          "text": [
            "Drive already mounted at /content/drive; to attempt to forcibly remount, call drive.mount(\"/content/drive\", force_remount=True).\n"
          ]
        }
      ]
    },
    {
      "cell_type": "code",
      "source": [
        "import pandas as pd\n",
        "\n",
        "# 1️⃣  Parámetros\n",
        "archivo_excel = \"/content/drive/MyDrive/Data/Mercado_Laboral/Biobio/resultados/panel_ENE_unificado.xlsx\"\n",
        "hoja_origen   = \"panel_data\"\n",
        "anio          = 2025\n",
        "hoja_filtrada = f\"data_{anio}\"\n",
        "hoja_prom     = f\"promedios_{anio}\"\n",
        "\n",
        "TRIM_MAP = {\"Ene - Mar\": 1, \"Abr - Jun\": 2, \"Jul - Sep\": 3, \"Oct - Dic\": 4}\n",
        "\n",
        "# 2️⃣  Leer la hoja principal y filtrar solo el año objetivo\n",
        "df_anio = (\n",
        "    pd.read_excel(archivo_excel, sheet_name=\"panel_data\")\n",
        "      .query(\"Año == @anio\")\n",
        ")\n",
        "df_anio = pd.read_excel(archivo_excel, sheet_name=hoja_origen).query(\"Año == @anio\").copy()\n",
        "\n",
        "if \"Periodo\" not in df_anio.columns:\n",
        "    df_anio[\"Trimestre_num\"] = df_anio[\"Trimestre\"].map(TRIM_MAP)\n",
        "    df_anio[\"Periodo\"] = pd.PeriodIndex.from_fields(df_anio[\"Año\"], df_anio[\"Trimestre_num\"], freq=\"Q\")\n",
        "    df_anio[\"Fecha\"] = df_anio[\"Periodo\"].dt.start_time\n",
        "    df_anio.drop(columns=\"Trimestre_num\", inplace=True)\n",
        "\n",
        "# 3️⃣  Calcular promedios regionales\n",
        "indicadores = [\n",
        "    \"T_TDO_indicadoresprincipales\",\n",
        "    \"T_TO_indicadoresprincipales\",\n",
        "    \"T_TP_indicadoresprincipales\",\n",
        "    \"T_TOI_A_informalidadtasas\",\n",
        "    \"T_TOI_H_informalidadtasas\",\n",
        "    \"T_TOI_M_informalidadtasas\",\n",
        "]\n",
        "\n",
        "promedios = (\n",
        "    df_anio.groupby(\"region_name\")[indicadores]\n",
        "           .mean()\n",
        "           .reset_index()\n",
        "           .round(3)\n",
        ")\n",
        "\n",
        "# 4️⃣  Escribir ambas hojas dentro del mismo archivo\n",
        "with pd.ExcelWriter(\n",
        "        archivo_excel,\n",
        "        engine=\"openpyxl\",\n",
        "        mode=\"a\",\n",
        "        if_sheet_exists=\"replace\"\n",
        "    ) as writer:\n",
        "    df_anio.to_excel(writer, sheet_name=hoja_filtrada, index=False)\n",
        "    promedios.to_excel(writer, sheet_name=hoja_prom, index=False)\n",
        "\n",
        "print(f\"✅ Hoja «{hoja_filtrada}» ({len(df_anio)} filas) y «{hoja_prom}» ({len(promedios)} regiones) creadas/actualizadas.\")"
      ],
      "metadata": {
        "colab": {
          "base_uri": "https://localhost:8080/"
        },
        "outputId": "acf73d14-f5ad-49a6-f3a2-3f2930a5609a",
        "id": "Ph257QYvxwCU"
      },
      "execution_count": 51,
      "outputs": [
        {
          "output_type": "stream",
          "name": "stdout",
          "text": [
            "✅ Hoja «data_2025» (17 filas) y «promedios_2025» (17 regiones) creadas/actualizadas.\n"
          ]
        }
      ]
    },
    {
      "cell_type": "markdown",
      "source": [
        "# Funciones"
      ],
      "metadata": {
        "id": "bNgHGKTx6lET"
      }
    },
    {
      "cell_type": "code",
      "source": [
        "# ========== CALCULAR VARIACIONES INTERANUALES ==========\n",
        "\n",
        "from pathlib import Path\n",
        "import pandas as pd\n",
        "\n",
        "TRIM_MAP = {\n",
        "    \"Ene - Mar\": 1,\n",
        "    \"Abr - Jun\": 2,\n",
        "    \"Jul - Sep\": 3,\n",
        "    \"Oct - Dic\": 4,\n",
        "}\n",
        "\n",
        "# === Función para cargar y crear columna Periodo si no existe ===\n",
        "def load_panel_variaciones(path: Path, sheet: str) -> pd.DataFrame:\n",
        "    df = pd.read_excel(path, sheet_name=sheet)\n",
        "    if \"Periodo\" not in df.columns:\n",
        "        df[\"Trimestre_num\"] = df[\"Trimestre\"].map(TRIM_MAP)\n",
        "        df[\"Periodo\"] = pd.PeriodIndex(\n",
        "            year=df[\"Año\"],\n",
        "            quarter=df[\"Trimestre_num\"],\n",
        "            freq=\"Q\"\n",
        "        )\n",
        "    return df\n",
        "\n",
        "# === Calcular variaciones ===\n",
        "def add_variations(df: pd.DataFrame, variables: list[str]) -> pd.DataFrame:\n",
        "    df = df.sort_values([\"region_name\", \"Periodo\"]).copy()\n",
        "    for var in variables:\n",
        "        # Variación interanual: diferencia con el mismo trimestre del año anterior\n",
        "        df[f\"{var}_da\"] = df.groupby(\"region_name\")[var].diff(periods=4)\n",
        "    return df\n",
        "\n",
        "\n",
        "    return df\n",
        "\n",
        "# === Ruta y columnas a calcular ===\n",
        "PANEL_FILE = Path('/content/drive/MyDrive/Data/Mercado_Laboral/Biobio/resultados/panel_ENE_unificado.xlsx')\n",
        "SHEET_IN = \"biobio_vs_nacional\"\n",
        "SHEET_OUT = \"biobio_vs_nacional_variaciones\"\n",
        "\n",
        "# Cargar panel\n",
        "df = load_panel_variaciones(PANEL_FILE, SHEET_IN)\n",
        "\n",
        "# Seleccionar solo las columnas numéricas de interés (excluyendo Año, Fecha, etc.)\n",
        "cols_num = df.select_dtypes(\"number\").columns.difference([\"Año\", \"Trimestre_num\"])\n",
        "df_var = add_variations(df, cols_num)\n",
        "\n",
        "# Guardar como nueva hoja\n",
        "with pd.ExcelWriter(PANEL_FILE, engine=\"openpyxl\", mode=\"a\", if_sheet_exists=\"replace\") as writer:\n",
        "    df_var.to_excel(writer, sheet_name=SHEET_OUT, index=False)\n",
        "\n",
        "print(f\"✅ Hoja «{SHEET_OUT}» creada con variaciones.\")\n"
      ],
      "metadata": {
        "colab": {
          "base_uri": "https://localhost:8080/"
        },
        "id": "7fVJNbCQGEof",
        "outputId": "51b2b19f-7d0a-4f02-fc2d-5e6f242d473f"
      },
      "execution_count": 55,
      "outputs": [
        {
          "output_type": "stream",
          "name": "stdout",
          "text": [
            "✅ Hoja «biobio_vs_nacional_variaciones» creada con variaciones.\n"
          ]
        }
      ]
    },
    {
      "cell_type": "markdown",
      "source": [
        "# Gráficos"
      ],
      "metadata": {
        "id": "MvWPD1VsGx8s"
      }
    },
    {
      "cell_type": "code",
      "source": [],
      "metadata": {
        "id": "d-Bsz7RQGz9t"
      },
      "execution_count": null,
      "outputs": []
    }
  ]
}