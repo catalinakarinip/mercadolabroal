        "plt.savefig(\"mapa_desocupacion_chile_q1_2025.png\", dpi=300)\n",
        "# plt.tight_layout()\n",
