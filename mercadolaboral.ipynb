{
  "nbformat": 4,
  "nbformat_minor": 0,
  "metadata": {
    "colab": {
      "provenance": [],
      "toc_visible": true,
      "authorship_tag": "ABX9TyPtr24YQAVWmLMSblcYeG2Y",
      "include_colab_link": true
    },
    "kernelspec": {
      "name": "python3",
      "display_name": "Python 3"
    },
    "language_info": {
      "name": "python"
    }
  },
  "cells": [
    {
      "cell_type": "markdown",
      "metadata": {
        "id": "view-in-github",
        "colab_type": "text"
      },
      "source": [
        "<a href=\"https://colab.research.google.com/github/catalinakarinip/mercadolabroal/blob/main/mercadolaboral.ipynb\" target=\"_parent\"><img src=\"https://colab.research.google.com/assets/colab-badge.svg\" alt=\"Open In Colab\"/></a>"
      ]
    },
    {
      "cell_type": "markdown",
      "source": [
        "# Script 1: limpiar bases originales del INE"
      ],
      "metadata": {
        "id": "Uc46ixsIkE-N"
      }
    },
    {
      "cell_type": "code",
      "source": [
        "# ================= 0. MONTAR DRIVE =====================================\n",
        "from google.colab import drive\n",
        "drive.mount('/content/drive')\n",
        "\n",
        "# ================= 1. LIBRERÍAS ========================================\n",
        "from pathlib import Path\n",
        "import pandas as pd, re\n",
        "\n",
        "# ================= 2. RUTAS ============================================\n",
        "ROOT = Path(\"/content/drive/MyDrive/Data/Mercado_Laboral/Biobio\")\n",
        "ORIG_DIR  = ROOT / \"Datos_ENE_originales\"\n",
        "CLEAN_DIR = ROOT / \"Datos_ENE_limpios\"\n",
        "CLEAN_DIR.mkdir(parents=True, exist_ok=True)\n",
        "\n",
        "MAP_FILE  = ROOT / \"resultados/variables_por_base.xlsx\"\n",
        "MAP_SHEET = 0\n",
        "\n",
        "# ================= 3. DICCIONARIO DE ABREVIATURAS =====================\n",
        "df_map = (\n",
        "    pd.read_excel(MAP_FILE, sheet_name=MAP_SHEET, usecols=\"A:C\")\n",
        "    .rename(columns=str.lower)\n",
        "    .dropna()\n",
        ")\n",
        "df_map[\"base\"] = df_map[\"base\"].str.strip().str.replace(\".xlsx\", \"\", regex=False).str.lower()\n",
        "df_map[\"var_original\"] = df_map[\"var_original\"].str.strip()\n",
        "df_map[\"abreviatura\"]  = df_map[\"abreviatura\"].str.strip()\n",
        "ABBR = {(r.base, r.var_original): r.abreviatura for r in df_map.itertuples()}\n",
        "\n",
        "# ================= 4. HOJAS A CONSERVAR ================================\n",
        "ID_VARS = [\"Año\", \"Trimestre\"]\n",
        "HOJAS_OBJETIVO = {\n",
        "    \"AS\", \"AP\", \"TA\", \"AN\", \"AT\", \"CO\", \"VA\", \"RM\", \"LI\", \"ML\",\n",
        "    \"NB\", \"BI\", \"AR\", \"LR\", \"LL\", \"AI\", \"MA\"\n",
        "}\n",
        "\n",
        "# ================= 5. CONVERSIÓN NÚMEROS LATINOS =======================\n",
        "import re\n",
        "def texto_a_numero(valor):\n",
        "    if pd.isna(valor):\n",
        "        return None\n",
        "    texto = str(valor)\n",
        "    if re.match(r\"^\\d{1,3}(\\.\\d{3})*(,\\d+)?$\", texto):\n",
        "        texto = texto.replace(\".\", \"\").replace(\",\", \".\")\n",
        "    else:\n",
        "        texto = texto.replace(\",\", \".\")\n",
        "    try:\n",
        "        return float(texto)\n",
        "    except ValueError:\n",
        "        return None\n",
        "\n",
        "# ================= 6. LIMPIADOR DE HOJAS ===============================\n",
        "def limpiar_hoja(df: pd.DataFrame, base_alias: str) -> pd.DataFrame:\n",
        "    df.columns = df.columns.str.strip()\n",
        "    df = df.copy()\n",
        "    columnas = list(df.columns)\n",
        "    renombres, columnas_a_borrar = {}, []\n",
        "\n",
        "    for i in range(len(columnas)):\n",
        "        col = columnas[i]\n",
        "        if col in ID_VARS or \"Unnamed\" not in col:\n",
        "            continue\n",
        "        anterior = columnas[i - 1] if i > 0 else \"\"\n",
        "        anterior = anterior.strip()\n",
        "        if anterior in ID_VARS or not anterior:\n",
        "            columnas_a_borrar.append(col)\n",
        "            continue\n",
        "        abbr = ABBR.get((base_alias, anterior))\n",
        "        if abbr:\n",
        "            renombres[col] = f\"{abbr}_{base_alias}\"\n",
        "        else:\n",
        "            columnas_a_borrar.append(col)\n",
        "\n",
        "    df = df.drop(columns=columnas_a_borrar, errors=\"ignore\").rename(columns=renombres)\n",
        "    df = df[df[ID_VARS[0]].notna() | df[ID_VARS[1]].notna()].reset_index(drop=True)\n",
        "\n",
        "    for col in renombres.values():\n",
        "        df[col] = df[col].apply(texto_a_numero)\n",
        "\n",
        "    return df[[*ID_VARS, *renombres.values()]]\n",
        "\n",
        "# ================= 7. PROCESAR ARCHIVOS =================================\n",
        "for src in ORIG_DIR.glob(\"*.xlsx\"):\n",
        "    base_alias = src.stem.split(\"_\")[0].lower()\n",
        "    dest = CLEAN_DIR / f\"{base_alias}_limpia.xlsx\"\n",
        "\n",
        "    if dest.exists() and dest.stat().st_mtime >= src.stat().st_mtime:\n",
        "        print(f\"↻  Ya limpio: {dest.name}\")\n",
        "        continue\n",
        "\n",
        "    print(f\"→ Procesando {src.name} (base={base_alias})\")\n",
        "\n",
        "    xls = pd.ExcelFile(src)\n",
        "    with pd.ExcelWriter(dest, engine=\"openpyxl\") as xlw:\n",
        "        hojas_guardadas = 0\n",
        "        for hoja in xls.sheet_names:\n",
        "            if hoja not in HOJAS_OBJETIVO:\n",
        "                continue\n",
        "            try:\n",
        "                raw = pd.read_excel(src, sheet_name=hoja, header=5, dtype=str)\n",
        "                limpio = limpiar_hoja(raw, base_alias)\n",
        "                if not limpio.empty:\n",
        "                    limpio.to_excel(xlw, sheet_name=hoja, index=False)\n",
        "                    hojas_guardadas += 1\n",
        "            except Exception as e:\n",
        "                print(f\"⚠️ Error en hoja '{hoja}': {e}\")\n",
        "        if hojas_guardadas == 0:\n",
        "            print(f\"⚠️ Ninguna hoja válida guardada en {src.name}\")\n",
        "\n",
        "print(\"\\n✅ Limpieza completada. Archivos en:\", CLEAN_DIR)\n"
      ],
      "metadata": {
        "colab": {
          "base_uri": "https://localhost:8080/"
        },
        "id": "ysdcgLQAt61r",
        "outputId": "e70eb359-5110-4bc7-f73e-97cc95730cf9"
      },
      "execution_count": null,
      "outputs": [
        {
          "output_type": "stream",
          "name": "stdout",
          "text": [
            "Drive already mounted at /content/drive; to attempt to forcibly remount, call drive.mount(\"/content/drive\", force_remount=True).\n",
            "→ Procesando rama.xlsx (base=rama)\n",
            "→ Procesando informalidadtasas.xlsx (base=informalidadtasas)\n",
            "→ Procesando informalidadrama.xlsx (base=informalidadrama)\n",
            "→ Procesando informalidadgrupo.xlsx (base=informalidadgrupo)\n",
            "→ Procesando informalidadcategoria.xlsx (base=informalidadcategoria)\n",
            "→ Procesando indicadoresprincipales.xlsx (base=indicadoresprincipales)\n",
            "→ Procesando grupo.xlsx (base=grupo)\n",
            "→ Procesando complementarios.xlsx (base=complementarios)\n"
          ]
        }
      ]
    }
  ]
}