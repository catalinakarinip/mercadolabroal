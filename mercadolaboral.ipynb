{
  "nbformat": 4,
  "nbformat_minor": 0,
  "metadata": {
    "colab": {
      "provenance": [],
      "toc_visible": true,
      "authorship_tag": "ABX9TyOPGmieLHqzJUjeGpO9ikLd",
      "include_colab_link": true
    },
    "kernelspec": {
      "name": "python3",
      "display_name": "Python 3"
    },
    "language_info": {
      "name": "python"
    }
  },
  "cells": [
    {
      "cell_type": "markdown",
      "metadata": {
        "id": "view-in-github",
        "colab_type": "text"
      },
      "source": [
        "<a href=\"https://colab.research.google.com/github/catalinakarinip/mercadolabroal/blob/main/mercadolaboral.ipynb\" target=\"_parent\"><img src=\"https://colab.research.google.com/assets/colab-badge.svg\" alt=\"Open In Colab\"/></a>"
      ]
    },
    {
      "cell_type": "markdown",
      "source": [
        "# Script 1: Limpieza bases INE"
      ],
      "metadata": {
        "id": "Uc46ixsIkE-N"
      }
    },
    {
      "cell_type": "markdown",
      "source": [
        "Para actualizar las bases limpias se debe\n",
        "1. Subir las bbdd originales del INE\n",
        "2. Ver si la base de diccionario \"variables_por_base\" mantiene las columnas, y por tanto las abreviaturas corresponden\n",
        "3. Cambiar nombre del archivo al compatible con la base de diccionario\n",
        "\n",
        "El code se demora 1 min en crear todas las bases limpias!!\n"
      ],
      "metadata": {
        "id": "st4DOtEXyi38"
      }
    },
    {
      "cell_type": "code",
      "source": [
        "# ================= 0. MONTAR DRIVE =====================================\n",
        "from google.colab import drive\n",
        "drive.mount('/content/drive')\n",
        "\n",
        "# ================= 1. LIBRERÍAS Y RUTA ========================================\n",
        "from pathlib import Path\n",
        "import pandas as pd\n",
        "import re\n",
        "\n",
        "ROOT = Path(\"/content/drive/MyDrive/Data/Mercado_Laboral/Biobio\")\n",
        "ORIG_DIR = ROOT / \"Datos_ENE_originales\"\n",
        "CLEAN_DIR = ROOT / \"Datos_ENE_limpios\"\n",
        "CLEAN_DIR.mkdir(parents=True, exist_ok=True)\n",
        "\n",
        "MAP_FILE = ROOT / \"resultados/variables_por_base.xlsx\"\n",
        "MAP_SHEET = 0\n",
        "\n",
        "# ================= 2. DICCIONARIO DE ABREVIATURAS =====================\n",
        "def load_abbreviations() -> dict:\n",
        "    df_map = (\n",
        "        pd.read_excel(MAP_FILE, sheet_name=MAP_SHEET, usecols=\"A:C\")\n",
        "        .rename(columns=str.lower)\n",
        "        .dropna()\n",
        "    )\n",
        "    df_map[\"base\"] = (\n",
        "        df_map[\"base\"].str.strip().str.replace(\".xlsx\", \"\", regex=False).str.lower()\n",
        "    )\n",
        "    df_map[\"var_original\"] = df_map[\"var_original\"].str.strip()\n",
        "    df_map[\"abreviatura\"] = df_map[\"abreviatura\"].str.strip()\n",
        "    return {(r.base, r.var_original): r.abreviatura for r in df_map.itertuples()}\n",
        "\n",
        "# ================= 4. HOJAS A CONSERVAR ================================\n",
        "ID_VARS = [\"Año\", \"Trimestre\"]\n",
        "HOJAS_OBJETIVO = {\n",
        "    \"AS\",\n",
        "    \"AP\",\n",
        "    \"TA\",\n",
        "    \"AN\",\n",
        "    \"AT\",\n",
        "    \"CO\",\n",
        "    \"VA\",\n",
        "    \"RM\",\n",
        "    \"LI\",\n",
        "    \"ML\",\n",
        "    \"NB\",\n",
        "    \"BI\",\n",
        "    \"AR\",\n",
        "    \"LR\",\n",
        "    \"LL\",\n",
        "    \"AI\",\n",
        "    \"MA\",\n",
        "}\n",
        "\n",
        "# ================= 5. CONVERSIÓN NÚMEROS LATINOS =======================\n",
        "\n",
        "LATIN_NUMBER_RE = re.compile(r\"^\\d{1,3}(\\.\\d{3})*(,\\d+)?$\")\n",
        "\n",
        "def texto_a_numero(valor: str):\n",
        "    if pd.isna(valor):\n",
        "        return None\n",
        "    texto = str(valor)\n",
        "    if LATIN_NUMBER_RE.match(texto):\n",
        "        texto = texto.replace(\".\", \"\").replace(\",\", \".\")\n",
        "    else:\n",
        "        texto = texto.replace(\",\", \".\")\n",
        "    try:\n",
        "        return float(texto)\n",
        "    except ValueError:\n",
        "        return None\n",
        "\n",
        "# ================= 6. LIMPIADOR DE HOJAS ===============================\n",
        "def limpiar_hoja(df: pd.DataFrame, base_alias: str, abbr: dict) -> pd.DataFrame:\n",
        "    df = df.copy()\n",
        "    df.columns = df.columns.str.strip()\n",
        "    columnas_a_borrar = []\n",
        "    renombres = {}\n",
        "    columnas = list(df.columns)\n",
        "\n",
        "    for i, col in enumerate(columnas):\n",
        "        if col in ID_VARS or \"Unnamed\" not in col:\n",
        "            continue\n",
        "        anterior = columnas[i - 1].strip() if i > 0 else \"\"\n",
        "        if anterior in ID_VARS or not anterior:\n",
        "            columnas_a_borrar.append(col)\n",
        "            continue\n",
        "        alias = abbr.get((base_alias, anterior))\n",
        "        if alias:\n",
        "            renombres[col] = f\"{alias}_{base_alias}\"\n",
        "        else:\n",
        "            columnas_a_borrar.append(col)\n",
        "\n",
        "    df = df.drop(columns=columnas_a_borrar, errors=\"ignore\").rename(columns=renombres)\n",
        "    df = df[df[ID_VARS[0]].notna() | df[ID_VARS[1]].notna()].reset_index(drop=True)\n",
        "\n",
        "    for col in renombres.values():\n",
        "        df[col] = df[col].apply(texto_a_numero)\n",
        "\n",
        "    return df[[*ID_VARS, *renombres.values()]]\n",
        "\n",
        "# ================= 7. PROCESAR ARCHIVOS =================================\n",
        "def procesar_archivos():\n",
        "    abbr = load_abbreviations()\n",
        "    for src in ORIG_DIR.glob(\"*.xlsx\"):\n",
        "        base_alias = src.stem.split(\"_\")[0].lower()\n",
        "        dest = CLEAN_DIR / f\"{base_alias}_limpia.xlsx\"\n",
        "        if dest.exists() and dest.stat().st_mtime >= src.stat().st_mtime:\n",
        "            print(f\"↻  Ya limpio: {dest.name}\")\n",
        "            continue\n",
        "        print(f\"→ Procesando {src.name} (base={base_alias})\")\n",
        "        xls = pd.ExcelFile(src)\n",
        "        with pd.ExcelWriter(dest, engine=\"openpyxl\") as xlw:\n",
        "            hojas_guardadas = 0\n",
        "            for hoja in xls.sheet_names:\n",
        "                if hoja not in HOJAS_OBJETIVO:\n",
        "                    continue\n",
        "                try:\n",
        "                    raw = xls.parse(hoja, header=5, dtype=str)\n",
        "                    limpio = limpiar_hoja(raw, base_alias, abbr)\n",
        "                    if not limpio.empty:\n",
        "                        limpio.to_excel(xlw, sheet_name=hoja, index=False)\n",
        "                        hojas_guardadas += 1\n",
        "                except Exception as e:\n",
        "                    print(f\"⚠️ Error en hoja '{hoja}': {e}\")\n",
        "            if hojas_guardadas == 0:\n",
        "                print(f\"⚠️ Ninguna hoja válida guardada en {src.name}\")\n",
        "    print(\"\\n✅ Limpieza completada. Archivos en:\", CLEAN_DIR)\n",
        "\n",
        "if __name__ == \"__main__\":\n",
        "    procesar_archivos()\n",
        "\n"
      ],
      "metadata": {
        "colab": {
          "base_uri": "https://localhost:8080/"
        },
        "id": "ysdcgLQAt61r",
        "outputId": "c0eeb1ae-ce53-47dc-e33f-8d0535987036"
      },
      "execution_count": 10,
      "outputs": [
        {
          "output_type": "stream",
          "name": "stdout",
          "text": [
            "Drive already mounted at /content/drive; to attempt to forcibly remount, call drive.mount(\"/content/drive\", force_remount=True).\n",
            "→ Procesando rama.xlsx (base=rama)\n",
            "→ Procesando informalidadtasas.xlsx (base=informalidadtasas)\n",
            "→ Procesando informalidadrama.xlsx (base=informalidadrama)\n",
            "→ Procesando informalidadgrupo.xlsx (base=informalidadgrupo)\n",
            "→ Procesando informalidadcategoria.xlsx (base=informalidadcategoria)\n",
            "→ Procesando indicadoresprincipales.xlsx (base=indicadoresprincipales)\n",
            "→ Procesando grupo.xlsx (base=grupo)\n",
            "→ Procesando complementarios.xlsx (base=complementarios)\n",
            "→ Procesando categoria.xlsx (base=categoria)\n",
            "\n",
            "✅ Limpieza completada. Archivos en: /content/drive/MyDrive/Data/Mercado_Laboral/Biobio/Datos_ENE_limpios\n"
          ]
        }
      ]
    },
    {
      "cell_type": "markdown",
      "source": [
        "# Script 2: Panel de datos"
      ],
      "metadata": {
        "id": "Z9yXzopv8_2K"
      }
    },
    {
      "cell_type": "code",
      "source": [
        "# ================= 0. MONTAR DRIVE =====================================\n",
        "from google.colab import drive\n",
        "drive.mount('/content/drive')\n",
        "\n",
        "# ================= 1. LIBRERÍAS Y PATH ========================================\n",
        "from pathlib import Path\n",
        "import pandas as pd\n",
        "ROOT = Path(\"/content/drive/MyDrive/Data/Mercado_Laboral/Biobio\")\n",
        "CLEAN_DIR = ROOT / \"Datos_ENE_limpios\"\n",
        "\n",
        "PANEL_FILE = ROOT / \"resultados\" / \"panel_ENE_unificado.xlsx\"\n",
        "\n",
        "TRIM_OK = {\"Ene - Mar\", \"Abr - Jun\", \"Jul - Sep\", \"Oct - Dic\"}\n",
        "MAPA = {\n",
        "    \"AP\": \"Arica y Parinacota\",\n",
        "    \"TA\": \"Tarapacá\",\n",
        "    \"AN\": \"Antofagasta\",\n",
        "    \"AT\": \"Atacama\",\n",
        "    \"CO\": \"Coquimbo\",\n",
        "    \"VA\": \"Valparaíso\",\n",
        "    \"RM\": \"Región Metropolitana\",\n",
        "    \"LI\": \"O’Higgins\",\n",
        "    \"ML\": \"Maule\",\n",
        "    \"NB\": \"Ñuble\",\n",
        "    \"BI\": \"Biobío\",\n",
        "    \"AR\": \"Araucanía\",\n",
        "    \"LR\": \"Los Ríos\",\n",
        "    \"LL\": \"Los Lagos\",\n",
        "    \"AI\": \"Aysén\",\n",
        "    \"MA\": \"Magallanes\",\n",
        "    \"AS\": \"Nacional\",\n",
        "}\n",
        "REGIONES = set(MAPA.keys())\n",
        "ID_VARS = [\"Año\", \"Trimestre\", \"region_code\", \"region_name\"]\n",
        "\n",
        "# ================= 2.MAPEO INICIAL ===========================\n",
        "\n",
        "def cargar_base(path: Path) -> pd.DataFrame:\n",
        "    xls = pd.ExcelFile(path)\n",
        "    registros = []\n",
        "    for hoja in xls.sheet_names:\n",
        "        if hoja not in REGIONES:\n",
        "            continue\n",
        "        df = pd.read_excel(xls, sheet_name=hoja)\n",
        "        df = df[df[\"Trimestre\"].isin(TRIM_OK)].copy()\n",
        "        df[\"region_code\"] = hoja\n",
        "        df[\"region_name\"] = MAPA[hoja]\n",
        "        registros.append(df)\n",
        "    if registros:\n",
        "        return pd.concat(registros, ignore_index=True)\n",
        "    return pd.DataFrame(columns=ID_VARS)\n",
        "\n",
        "\n",
        "# ================= 3. CONSTRUCCIÓN DEL PANEL ===========================\n",
        "def construir_panel():\n",
        "    panel = None\n",
        "    for archivo in CLEAN_DIR.glob(\"*_limpia.xlsx\"):\n",
        "        df_base = cargar_base(archivo)\n",
        "        if df_base.empty:\n",
        "            continue\n",
        "        if panel is None:\n",
        "            panel = df_base\n",
        "        else:\n",
        "            panel = pd.merge(panel, df_base, on=ID_VARS, how=\"outer\")\n",
        "    if panel is None:\n",
        "        print(\"No se encontraron archivos limpios\")\n",
        "        return\n",
        "    panel = panel.sort_values(ID_VARS).reset_index(drop=True)\n",
        "    PANEL_FILE.parent.mkdir(parents=True, exist_ok=True)\n",
        "    if PANEL_FILE.exists():\n",
        "        print(f\"↻  Reemplazando {PANEL_FILE.name}\")\n",
        "    panel.to_excel(PANEL_FILE, index=False)\n",
        "    print(\"✅ Panel construido y guardado en:\", PANEL_FILE)\n",
        "\n",
        "if __name__ == \"__main__\":\n",
        "    construir_panel()"
      ],
      "metadata": {
        "colab": {
          "base_uri": "https://localhost:8080/"
        },
        "id": "tS6MeK7R-38i",
        "outputId": "527e80b3-2de0-4ef8-e4a6-d027a0c9bf1c"
      },
      "execution_count": 11,
      "outputs": [
        {
          "output_type": "stream",
          "name": "stdout",
          "text": [
            "Drive already mounted at /content/drive; to attempt to forcibly remount, call drive.mount(\"/content/drive\", force_remount=True).\n",
            "✅ Panel construido y guardado en: /content/drive/MyDrive/Data/Mercado_Laboral/Biobio/resultados/panel_ENE_unificado.xlsx\n"
          ]
        }
      ]
    }
  ]
}